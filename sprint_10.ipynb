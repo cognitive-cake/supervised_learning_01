{
 "cells": [
  {
   "cell_type": "markdown",
   "metadata": {
    "toc": true
   },
   "source": [
    "<h1>Содержание<span class=\"tocSkip\"></span></h1>\n",
    "<div class=\"toc\"><ul class=\"toc-item\"><li><span><a href=\"#Введение\" data-toc-modified-id=\"Введение-1\"><span class=\"toc-item-num\">1&nbsp;&nbsp;</span>Введение</a></span><ul class=\"toc-item\"><li><span><a href=\"#Описание-задачи\" data-toc-modified-id=\"Описание-задачи-1.1\"><span class=\"toc-item-num\">1.1&nbsp;&nbsp;</span>Описание задачи</a></span></li><li><span><a href=\"#Цели\" data-toc-modified-id=\"Цели-1.2\"><span class=\"toc-item-num\">1.2&nbsp;&nbsp;</span>Цели</a></span></li><li><span><a href=\"#План-работ\" data-toc-modified-id=\"План-работ-1.3\"><span class=\"toc-item-num\">1.3&nbsp;&nbsp;</span>План работ</a></span></li></ul></li><li><span><a href=\"#Подготовка-данных\" data-toc-modified-id=\"Подготовка-данных-2\"><span class=\"toc-item-num\">2&nbsp;&nbsp;</span>Подготовка данных</a></span><ul class=\"toc-item\"><li><span><a href=\"#Обзор-данных\" data-toc-modified-id=\"Обзор-данных-2.1\"><span class=\"toc-item-num\">2.1&nbsp;&nbsp;</span>Обзор данных</a></span></li><li><span><a href=\"#Предобработка\" data-toc-modified-id=\"Предобработка-2.2\"><span class=\"toc-item-num\">2.2&nbsp;&nbsp;</span>Предобработка</a></span><ul class=\"toc-item\"><li><span><a href=\"#Удаление-колонок\" data-toc-modified-id=\"Удаление-колонок-2.2.1\"><span class=\"toc-item-num\">2.2.1&nbsp;&nbsp;</span>Удаление колонок</a></span></li><li><span><a href=\"#Заполнение-пропусков\" data-toc-modified-id=\"Заполнение-пропусков-2.2.2\"><span class=\"toc-item-num\">2.2.2&nbsp;&nbsp;</span>Заполнение пропусков</a></span></li><li><span><a href=\"#Кодирование-признаков\" data-toc-modified-id=\"Кодирование-признаков-2.2.3\"><span class=\"toc-item-num\">2.2.3&nbsp;&nbsp;</span>Кодирование признаков</a></span></li><li><span><a href=\"#Разделение-датасета-на-выборки\" data-toc-modified-id=\"Разделение-датасета-на-выборки-2.2.4\"><span class=\"toc-item-num\">2.2.4&nbsp;&nbsp;</span>Разделение датасета на выборки</a></span></li><li><span><a href=\"#Масштабирование-признаков\" data-toc-modified-id=\"Масштабирование-признаков-2.2.5\"><span class=\"toc-item-num\">2.2.5&nbsp;&nbsp;</span>Масштабирование признаков</a></span></li></ul></li></ul></li><li><span><a href=\"#Исследование-задачи\" data-toc-modified-id=\"Исследование-задачи-3\"><span class=\"toc-item-num\">3&nbsp;&nbsp;</span>Исследование задачи</a></span><ul class=\"toc-item\"><li><span><a href=\"#Логистическая-регрессия\" data-toc-modified-id=\"Логистическая-регрессия-3.1\"><span class=\"toc-item-num\">3.1&nbsp;&nbsp;</span>Логистическая регрессия</a></span></li><li><span><a href=\"#Дерево-решений\" data-toc-modified-id=\"Дерево-решений-3.2\"><span class=\"toc-item-num\">3.2&nbsp;&nbsp;</span>Дерево решений</a></span></li><li><span><a href=\"#Случайный-лес\" data-toc-modified-id=\"Случайный-лес-3.3\"><span class=\"toc-item-num\">3.3&nbsp;&nbsp;</span>Случайный лес</a></span></li><li><span><a href=\"#Вывод\" data-toc-modified-id=\"Вывод-3.4\"><span class=\"toc-item-num\">3.4&nbsp;&nbsp;</span>Вывод</a></span></li></ul></li><li><span><a href=\"#Борьба-с-дисбалансом\" data-toc-modified-id=\"Борьба-с-дисбалансом-4\"><span class=\"toc-item-num\">4&nbsp;&nbsp;</span>Борьба с дисбалансом</a></span><ul class=\"toc-item\"><li><span><a href=\"#Гиперпараметр-class_weight\" data-toc-modified-id=\"Гиперпараметр-class_weight-4.1\"><span class=\"toc-item-num\">4.1&nbsp;&nbsp;</span>Гиперпараметр class_weight</a></span><ul class=\"toc-item\"><li><span><a href=\"#Логистическая-регрессия\" data-toc-modified-id=\"Логистическая-регрессия-4.1.1\"><span class=\"toc-item-num\">4.1.1&nbsp;&nbsp;</span>Логистическая регрессия</a></span></li><li><span><a href=\"#Дерево-решений\" data-toc-modified-id=\"Дерево-решений-4.1.2\"><span class=\"toc-item-num\">4.1.2&nbsp;&nbsp;</span>Дерево решений</a></span></li><li><span><a href=\"#Случайный-лес\" data-toc-modified-id=\"Случайный-лес-4.1.3\"><span class=\"toc-item-num\">4.1.3&nbsp;&nbsp;</span>Случайный лес</a></span></li><li><span><a href=\"#Вывод\" data-toc-modified-id=\"Вывод-4.1.4\"><span class=\"toc-item-num\">4.1.4&nbsp;&nbsp;</span>Вывод</a></span></li></ul></li><li><span><a href=\"#Upsampling\" data-toc-modified-id=\"Upsampling-4.2\"><span class=\"toc-item-num\">4.2&nbsp;&nbsp;</span>Upsampling</a></span><ul class=\"toc-item\"><li><span><a href=\"#Логистическая-регрессия\" data-toc-modified-id=\"Логистическая-регрессия-4.2.1\"><span class=\"toc-item-num\">4.2.1&nbsp;&nbsp;</span>Логистическая регрессия</a></span></li><li><span><a href=\"#Дерево-решений\" data-toc-modified-id=\"Дерево-решений-4.2.2\"><span class=\"toc-item-num\">4.2.2&nbsp;&nbsp;</span>Дерево решений</a></span></li><li><span><a href=\"#Случайный-лес\" data-toc-modified-id=\"Случайный-лес-4.2.3\"><span class=\"toc-item-num\">4.2.3&nbsp;&nbsp;</span>Случайный лес</a></span></li><li><span><a href=\"#Вывод\" data-toc-modified-id=\"Вывод-4.2.4\"><span class=\"toc-item-num\">4.2.4&nbsp;&nbsp;</span>Вывод</a></span></li></ul></li><li><span><a href=\"#Downsampling\" data-toc-modified-id=\"Downsampling-4.3\"><span class=\"toc-item-num\">4.3&nbsp;&nbsp;</span>Downsampling</a></span><ul class=\"toc-item\"><li><span><a href=\"#Логистическая-регрессия\" data-toc-modified-id=\"Логистическая-регрессия-4.3.1\"><span class=\"toc-item-num\">4.3.1&nbsp;&nbsp;</span>Логистическая регрессия</a></span></li><li><span><a href=\"#Дерево-решений\" data-toc-modified-id=\"Дерево-решений-4.3.2\"><span class=\"toc-item-num\">4.3.2&nbsp;&nbsp;</span>Дерево решений</a></span></li><li><span><a href=\"#Случайный-лес\" data-toc-modified-id=\"Случайный-лес-4.3.3\"><span class=\"toc-item-num\">4.3.3&nbsp;&nbsp;</span>Случайный лес</a></span></li><li><span><a href=\"#Вывод\" data-toc-modified-id=\"Вывод-4.3.4\"><span class=\"toc-item-num\">4.3.4&nbsp;&nbsp;</span>Вывод</a></span></li></ul></li><li><span><a href=\"#Вывод-по-борьбе-с-дисбалансом\" data-toc-modified-id=\"Вывод-по-борьбе-с-дисбалансом-4.4\"><span class=\"toc-item-num\">4.4&nbsp;&nbsp;</span>Вывод по борьбе с дисбалансом</a></span></li></ul></li><li><span><a href=\"#Тестирование-модели\" data-toc-modified-id=\"Тестирование-модели-5\"><span class=\"toc-item-num\">5&nbsp;&nbsp;</span>Тестирование модели</a></span></li><li><span><a href=\"#Исследование-AUC-ROC\" data-toc-modified-id=\"Исследование-AUC-ROC-6\"><span class=\"toc-item-num\">6&nbsp;&nbsp;</span>Исследование AUC-ROC</a></span></li><li><span><a href=\"#Общий-вывод\" data-toc-modified-id=\"Общий-вывод-7\"><span class=\"toc-item-num\">7&nbsp;&nbsp;</span>Общий вывод</a></span></li></ul></div>"
   ]
  },
  {
   "cell_type": "markdown",
   "metadata": {},
   "source": [
    "# Отток клиентов"
   ]
  },
  {
   "cell_type": "markdown",
   "metadata": {},
   "source": [
    "## Введение"
   ]
  },
  {
   "cell_type": "markdown",
   "metadata": {},
   "source": [
    "### Описание задачи "
   ]
  },
  {
   "cell_type": "markdown",
   "metadata": {},
   "source": [
    "Из «Бета-Банка» стали уходить клиенты. Каждый месяц. Немного, но заметно. Банковские маркетологи посчитали: сохранять текущих клиентов дешевле, чем привлекать новых.\n",
    "\n",
    "Нужно спрогнозировать, уйдёт клиент из банка в ближайшее время или нет. Вам предоставлены исторические данные о поведении клиентов и расторжении договоров с банком. \n",
    "\n",
    "Постройте модель с предельно большим значением *F1*-меры. Чтобы сдать проект успешно, нужно довести метрику до 0.59. Проверьте *F1*-меру на тестовой выборке самостоятельно.\n",
    "\n",
    "Дополнительно измеряйте *AUC-ROC*, сравнивайте её значение с *F1*-мерой.\n",
    "\n",
    "Источник данных: [https://www.kaggle.com/barelydedicated/bank-customer-churn-modeling](https://www.kaggle.com/barelydedicated/bank-customer-churn-modeling)"
   ]
  },
  {
   "cell_type": "markdown",
   "metadata": {},
   "source": [
    "### Цели "
   ]
  },
  {
   "cell_type": "markdown",
   "metadata": {},
   "source": [
    "1. Загрузите и подготовьте данные. Поясните порядок действий.\n",
    "2. Исследуйте баланс классов, обучите модель без учёта дисбаланса. Кратко опишите выводы.\n",
    "2. Улучшите качество модели, учитывая дисбаланс классов. Обучите разные модели и найдите лучшую. Кратко опишите выводы.\n",
    "2. Проведите финальное тестирование."
   ]
  },
  {
   "cell_type": "markdown",
   "metadata": {},
   "source": [
    "### План работ "
   ]
  },
  {
   "cell_type": "markdown",
   "metadata": {},
   "source": [
    "1. Подготовка данных\n",
    "2. Исследование задачи\n",
    "3. Борьба с дисбалансом\n",
    "5. Тестирование модели\n",
    "5. Исследование AUC-ROC\n",
    "6. Общий вывод"
   ]
  },
  {
   "cell_type": "markdown",
   "metadata": {},
   "source": [
    "## Подготовка данных"
   ]
  },
  {
   "cell_type": "markdown",
   "metadata": {},
   "source": [
    "### Обзор данных "
   ]
  },
  {
   "cell_type": "code",
   "execution_count": 1,
   "metadata": {},
   "outputs": [],
   "source": [
    "# Как всегда начнём с импортов\n",
    "import pandas as pd\n",
    "\n",
    "import matplotlib.pyplot as plt\n",
    "from sklearn.model_selection import train_test_split, GridSearchCV\n",
    "from sklearn.linear_model import LogisticRegression\n",
    "from sklearn.preprocessing import StandardScaler\n",
    "from sklearn.ensemble import RandomForestClassifier\n",
    "from sklearn.tree import DecisionTreeClassifier\n",
    "from sklearn.utils import shuffle\n",
    "from sklearn.metrics import roc_auc_score, roc_curve, f1_score"
   ]
  },
  {
   "cell_type": "code",
   "execution_count": 2,
   "metadata": {},
   "outputs": [],
   "source": [
    "# Отключим предупреждение о цепном присваивании\n",
    "pd.options.mode.chained_assignment = None"
   ]
  },
  {
   "cell_type": "code",
   "execution_count": 3,
   "metadata": {},
   "outputs": [
    {
     "data": {
      "text/html": [
       "<div>\n",
       "<style scoped>\n",
       "    .dataframe tbody tr th:only-of-type {\n",
       "        vertical-align: middle;\n",
       "    }\n",
       "\n",
       "    .dataframe tbody tr th {\n",
       "        vertical-align: top;\n",
       "    }\n",
       "\n",
       "    .dataframe thead th {\n",
       "        text-align: right;\n",
       "    }\n",
       "</style>\n",
       "<table border=\"1\" class=\"dataframe\">\n",
       "  <thead>\n",
       "    <tr style=\"text-align: right;\">\n",
       "      <th></th>\n",
       "      <th>RowNumber</th>\n",
       "      <th>CustomerId</th>\n",
       "      <th>Surname</th>\n",
       "      <th>CreditScore</th>\n",
       "      <th>Geography</th>\n",
       "      <th>Gender</th>\n",
       "      <th>Age</th>\n",
       "      <th>Tenure</th>\n",
       "      <th>Balance</th>\n",
       "      <th>NumOfProducts</th>\n",
       "      <th>HasCrCard</th>\n",
       "      <th>IsActiveMember</th>\n",
       "      <th>EstimatedSalary</th>\n",
       "      <th>Exited</th>\n",
       "    </tr>\n",
       "  </thead>\n",
       "  <tbody>\n",
       "    <tr>\n",
       "      <th>0</th>\n",
       "      <td>1</td>\n",
       "      <td>15634602</td>\n",
       "      <td>Hargrave</td>\n",
       "      <td>619</td>\n",
       "      <td>France</td>\n",
       "      <td>Female</td>\n",
       "      <td>42</td>\n",
       "      <td>2.0</td>\n",
       "      <td>0.00</td>\n",
       "      <td>1</td>\n",
       "      <td>1</td>\n",
       "      <td>1</td>\n",
       "      <td>101348.88</td>\n",
       "      <td>1</td>\n",
       "    </tr>\n",
       "    <tr>\n",
       "      <th>1</th>\n",
       "      <td>2</td>\n",
       "      <td>15647311</td>\n",
       "      <td>Hill</td>\n",
       "      <td>608</td>\n",
       "      <td>Spain</td>\n",
       "      <td>Female</td>\n",
       "      <td>41</td>\n",
       "      <td>1.0</td>\n",
       "      <td>83807.86</td>\n",
       "      <td>1</td>\n",
       "      <td>0</td>\n",
       "      <td>1</td>\n",
       "      <td>112542.58</td>\n",
       "      <td>0</td>\n",
       "    </tr>\n",
       "    <tr>\n",
       "      <th>2</th>\n",
       "      <td>3</td>\n",
       "      <td>15619304</td>\n",
       "      <td>Onio</td>\n",
       "      <td>502</td>\n",
       "      <td>France</td>\n",
       "      <td>Female</td>\n",
       "      <td>42</td>\n",
       "      <td>8.0</td>\n",
       "      <td>159660.80</td>\n",
       "      <td>3</td>\n",
       "      <td>1</td>\n",
       "      <td>0</td>\n",
       "      <td>113931.57</td>\n",
       "      <td>1</td>\n",
       "    </tr>\n",
       "    <tr>\n",
       "      <th>3</th>\n",
       "      <td>4</td>\n",
       "      <td>15701354</td>\n",
       "      <td>Boni</td>\n",
       "      <td>699</td>\n",
       "      <td>France</td>\n",
       "      <td>Female</td>\n",
       "      <td>39</td>\n",
       "      <td>1.0</td>\n",
       "      <td>0.00</td>\n",
       "      <td>2</td>\n",
       "      <td>0</td>\n",
       "      <td>0</td>\n",
       "      <td>93826.63</td>\n",
       "      <td>0</td>\n",
       "    </tr>\n",
       "    <tr>\n",
       "      <th>4</th>\n",
       "      <td>5</td>\n",
       "      <td>15737888</td>\n",
       "      <td>Mitchell</td>\n",
       "      <td>850</td>\n",
       "      <td>Spain</td>\n",
       "      <td>Female</td>\n",
       "      <td>43</td>\n",
       "      <td>2.0</td>\n",
       "      <td>125510.82</td>\n",
       "      <td>1</td>\n",
       "      <td>1</td>\n",
       "      <td>1</td>\n",
       "      <td>79084.10</td>\n",
       "      <td>0</td>\n",
       "    </tr>\n",
       "  </tbody>\n",
       "</table>\n",
       "</div>"
      ],
      "text/plain": [
       "   RowNumber  CustomerId   Surname  CreditScore Geography  Gender  Age  \\\n",
       "0          1    15634602  Hargrave          619    France  Female   42   \n",
       "1          2    15647311      Hill          608     Spain  Female   41   \n",
       "2          3    15619304      Onio          502    France  Female   42   \n",
       "3          4    15701354      Boni          699    France  Female   39   \n",
       "4          5    15737888  Mitchell          850     Spain  Female   43   \n",
       "\n",
       "   Tenure    Balance  NumOfProducts  HasCrCard  IsActiveMember  \\\n",
       "0     2.0       0.00              1          1               1   \n",
       "1     1.0   83807.86              1          0               1   \n",
       "2     8.0  159660.80              3          1               0   \n",
       "3     1.0       0.00              2          0               0   \n",
       "4     2.0  125510.82              1          1               1   \n",
       "\n",
       "   EstimatedSalary  Exited  \n",
       "0        101348.88       1  \n",
       "1        112542.58       0  \n",
       "2        113931.57       1  \n",
       "3         93826.63       0  \n",
       "4         79084.10       0  "
      ]
     },
     "execution_count": 3,
     "metadata": {},
     "output_type": "execute_result"
    }
   ],
   "source": [
    "# Прочитаем csv-файл и выведем датасет на экран\n",
    "data = pd.read_csv('/datasets/Churn.csv')\n",
    "\n",
    "data.head()"
   ]
  },
  {
   "cell_type": "code",
   "execution_count": 4,
   "metadata": {},
   "outputs": [
    {
     "name": "stdout",
     "output_type": "stream",
     "text": [
      "<class 'pandas.core.frame.DataFrame'>\n",
      "RangeIndex: 10000 entries, 0 to 9999\n",
      "Data columns (total 14 columns):\n",
      " #   Column           Non-Null Count  Dtype  \n",
      "---  ------           --------------  -----  \n",
      " 0   RowNumber        10000 non-null  int64  \n",
      " 1   CustomerId       10000 non-null  int64  \n",
      " 2   Surname          10000 non-null  object \n",
      " 3   CreditScore      10000 non-null  int64  \n",
      " 4   Geography        10000 non-null  object \n",
      " 5   Gender           10000 non-null  object \n",
      " 6   Age              10000 non-null  int64  \n",
      " 7   Tenure           9091 non-null   float64\n",
      " 8   Balance          10000 non-null  float64\n",
      " 9   NumOfProducts    10000 non-null  int64  \n",
      " 10  HasCrCard        10000 non-null  int64  \n",
      " 11  IsActiveMember   10000 non-null  int64  \n",
      " 12  EstimatedSalary  10000 non-null  float64\n",
      " 13  Exited           10000 non-null  int64  \n",
      "dtypes: float64(3), int64(8), object(3)\n",
      "memory usage: 1.1+ MB\n"
     ]
    }
   ],
   "source": [
    "data.info()"
   ]
  },
  {
   "cell_type": "markdown",
   "metadata": {},
   "source": [
    "На первый взгляд больших проблем в данных не наблюдается. Присутствуют пропуски в столбце `Tenure`.\n",
    "\n",
    "В датасете присутствуют следующие признаки:\n",
    "* `RowNumber` — индекс строки в данных\n",
    "* `CustomerId` — уникальный идентификатор клиента\n",
    "* `Surname` — фамилия\n",
    "* `CreditScore` — кредитный рейтинг\n",
    "* `Geography` — страна проживания\n",
    "* `Gender` — пол\n",
    "* `Age` — возраст\n",
    "* `Tenure` — сколько лет человек является клиентом банка\n",
    "* `Balance` — баланс на счёте\n",
    "* `NumOfProducts` — количество продуктов банка, используемых клиентом\n",
    "* `HasCrCard` — наличие кредитной карты\n",
    "* `IsActiveMember` — активность клиента\n",
    "* `EstimatedSalary` — предполагаемая зарплата\n",
    "\n",
    "Целевой признак:\n",
    "* `Exited` — факт ухода клиента\n",
    "\n",
    "Колонку RowNumber можно спокойно удалить, т.к. это, вероятнее всего, индекс с исходной базы данных."
   ]
  },
  {
   "cell_type": "markdown",
   "metadata": {},
   "source": [
    "### Предобработка "
   ]
  },
  {
   "cell_type": "markdown",
   "metadata": {},
   "source": [
    "#### Удаление колонок "
   ]
  },
  {
   "cell_type": "code",
   "execution_count": 5,
   "metadata": {},
   "outputs": [
    {
     "data": {
      "text/html": [
       "<div>\n",
       "<style scoped>\n",
       "    .dataframe tbody tr th:only-of-type {\n",
       "        vertical-align: middle;\n",
       "    }\n",
       "\n",
       "    .dataframe tbody tr th {\n",
       "        vertical-align: top;\n",
       "    }\n",
       "\n",
       "    .dataframe thead th {\n",
       "        text-align: right;\n",
       "    }\n",
       "</style>\n",
       "<table border=\"1\" class=\"dataframe\">\n",
       "  <thead>\n",
       "    <tr style=\"text-align: right;\">\n",
       "      <th></th>\n",
       "      <th>CreditScore</th>\n",
       "      <th>Geography</th>\n",
       "      <th>Gender</th>\n",
       "      <th>Age</th>\n",
       "      <th>Tenure</th>\n",
       "      <th>Balance</th>\n",
       "      <th>NumOfProducts</th>\n",
       "      <th>HasCrCard</th>\n",
       "      <th>IsActiveMember</th>\n",
       "      <th>EstimatedSalary</th>\n",
       "      <th>Exited</th>\n",
       "    </tr>\n",
       "  </thead>\n",
       "  <tbody>\n",
       "    <tr>\n",
       "      <th>0</th>\n",
       "      <td>619</td>\n",
       "      <td>France</td>\n",
       "      <td>Female</td>\n",
       "      <td>42</td>\n",
       "      <td>2.0</td>\n",
       "      <td>0.00</td>\n",
       "      <td>1</td>\n",
       "      <td>1</td>\n",
       "      <td>1</td>\n",
       "      <td>101348.88</td>\n",
       "      <td>1</td>\n",
       "    </tr>\n",
       "    <tr>\n",
       "      <th>1</th>\n",
       "      <td>608</td>\n",
       "      <td>Spain</td>\n",
       "      <td>Female</td>\n",
       "      <td>41</td>\n",
       "      <td>1.0</td>\n",
       "      <td>83807.86</td>\n",
       "      <td>1</td>\n",
       "      <td>0</td>\n",
       "      <td>1</td>\n",
       "      <td>112542.58</td>\n",
       "      <td>0</td>\n",
       "    </tr>\n",
       "    <tr>\n",
       "      <th>2</th>\n",
       "      <td>502</td>\n",
       "      <td>France</td>\n",
       "      <td>Female</td>\n",
       "      <td>42</td>\n",
       "      <td>8.0</td>\n",
       "      <td>159660.80</td>\n",
       "      <td>3</td>\n",
       "      <td>1</td>\n",
       "      <td>0</td>\n",
       "      <td>113931.57</td>\n",
       "      <td>1</td>\n",
       "    </tr>\n",
       "    <tr>\n",
       "      <th>3</th>\n",
       "      <td>699</td>\n",
       "      <td>France</td>\n",
       "      <td>Female</td>\n",
       "      <td>39</td>\n",
       "      <td>1.0</td>\n",
       "      <td>0.00</td>\n",
       "      <td>2</td>\n",
       "      <td>0</td>\n",
       "      <td>0</td>\n",
       "      <td>93826.63</td>\n",
       "      <td>0</td>\n",
       "    </tr>\n",
       "    <tr>\n",
       "      <th>4</th>\n",
       "      <td>850</td>\n",
       "      <td>Spain</td>\n",
       "      <td>Female</td>\n",
       "      <td>43</td>\n",
       "      <td>2.0</td>\n",
       "      <td>125510.82</td>\n",
       "      <td>1</td>\n",
       "      <td>1</td>\n",
       "      <td>1</td>\n",
       "      <td>79084.10</td>\n",
       "      <td>0</td>\n",
       "    </tr>\n",
       "  </tbody>\n",
       "</table>\n",
       "</div>"
      ],
      "text/plain": [
       "   CreditScore Geography  Gender  Age  Tenure    Balance  NumOfProducts  \\\n",
       "0          619    France  Female   42     2.0       0.00              1   \n",
       "1          608     Spain  Female   41     1.0   83807.86              1   \n",
       "2          502    France  Female   42     8.0  159660.80              3   \n",
       "3          699    France  Female   39     1.0       0.00              2   \n",
       "4          850     Spain  Female   43     2.0  125510.82              1   \n",
       "\n",
       "   HasCrCard  IsActiveMember  EstimatedSalary  Exited  \n",
       "0          1               1        101348.88       1  \n",
       "1          0               1        112542.58       0  \n",
       "2          1               0        113931.57       1  \n",
       "3          0               0         93826.63       0  \n",
       "4          1               1         79084.10       0  "
      ]
     },
     "execution_count": 5,
     "metadata": {},
     "output_type": "execute_result"
    }
   ],
   "source": [
    "# Удалим колонку RowNumber\n",
    "# Так же удалим колонки CustomerId и Surname - для модели они не несут пользы, и могут только запутать её\n",
    "data = data.drop(['RowNumber', 'CustomerId', 'Surname'], axis=1)\n",
    "data.head()"
   ]
  },
  {
   "cell_type": "markdown",
   "metadata": {},
   "source": [
    "#### Заполнение пропусков "
   ]
  },
  {
   "cell_type": "code",
   "execution_count": 6,
   "metadata": {},
   "outputs": [
    {
     "data": {
      "text/html": [
       "<div>\n",
       "<style scoped>\n",
       "    .dataframe tbody tr th:only-of-type {\n",
       "        vertical-align: middle;\n",
       "    }\n",
       "\n",
       "    .dataframe tbody tr th {\n",
       "        vertical-align: top;\n",
       "    }\n",
       "\n",
       "    .dataframe thead th {\n",
       "        text-align: right;\n",
       "    }\n",
       "</style>\n",
       "<table border=\"1\" class=\"dataframe\">\n",
       "  <thead>\n",
       "    <tr style=\"text-align: right;\">\n",
       "      <th></th>\n",
       "      <th>CreditScore</th>\n",
       "      <th>Age</th>\n",
       "      <th>Tenure</th>\n",
       "      <th>Balance</th>\n",
       "      <th>NumOfProducts</th>\n",
       "      <th>HasCrCard</th>\n",
       "      <th>IsActiveMember</th>\n",
       "      <th>EstimatedSalary</th>\n",
       "      <th>Exited</th>\n",
       "    </tr>\n",
       "  </thead>\n",
       "  <tbody>\n",
       "    <tr>\n",
       "      <th>count</th>\n",
       "      <td>10000.000000</td>\n",
       "      <td>10000.000000</td>\n",
       "      <td>9091.000000</td>\n",
       "      <td>10000.000000</td>\n",
       "      <td>10000.000000</td>\n",
       "      <td>10000.00000</td>\n",
       "      <td>10000.000000</td>\n",
       "      <td>10000.000000</td>\n",
       "      <td>10000.000000</td>\n",
       "    </tr>\n",
       "    <tr>\n",
       "      <th>mean</th>\n",
       "      <td>650.528800</td>\n",
       "      <td>38.921800</td>\n",
       "      <td>4.997690</td>\n",
       "      <td>76485.889288</td>\n",
       "      <td>1.530200</td>\n",
       "      <td>0.70550</td>\n",
       "      <td>0.515100</td>\n",
       "      <td>100090.239881</td>\n",
       "      <td>0.203700</td>\n",
       "    </tr>\n",
       "    <tr>\n",
       "      <th>std</th>\n",
       "      <td>96.653299</td>\n",
       "      <td>10.487806</td>\n",
       "      <td>2.894723</td>\n",
       "      <td>62397.405202</td>\n",
       "      <td>0.581654</td>\n",
       "      <td>0.45584</td>\n",
       "      <td>0.499797</td>\n",
       "      <td>57510.492818</td>\n",
       "      <td>0.402769</td>\n",
       "    </tr>\n",
       "    <tr>\n",
       "      <th>min</th>\n",
       "      <td>350.000000</td>\n",
       "      <td>18.000000</td>\n",
       "      <td>0.000000</td>\n",
       "      <td>0.000000</td>\n",
       "      <td>1.000000</td>\n",
       "      <td>0.00000</td>\n",
       "      <td>0.000000</td>\n",
       "      <td>11.580000</td>\n",
       "      <td>0.000000</td>\n",
       "    </tr>\n",
       "    <tr>\n",
       "      <th>25%</th>\n",
       "      <td>584.000000</td>\n",
       "      <td>32.000000</td>\n",
       "      <td>2.000000</td>\n",
       "      <td>0.000000</td>\n",
       "      <td>1.000000</td>\n",
       "      <td>0.00000</td>\n",
       "      <td>0.000000</td>\n",
       "      <td>51002.110000</td>\n",
       "      <td>0.000000</td>\n",
       "    </tr>\n",
       "    <tr>\n",
       "      <th>50%</th>\n",
       "      <td>652.000000</td>\n",
       "      <td>37.000000</td>\n",
       "      <td>5.000000</td>\n",
       "      <td>97198.540000</td>\n",
       "      <td>1.000000</td>\n",
       "      <td>1.00000</td>\n",
       "      <td>1.000000</td>\n",
       "      <td>100193.915000</td>\n",
       "      <td>0.000000</td>\n",
       "    </tr>\n",
       "    <tr>\n",
       "      <th>75%</th>\n",
       "      <td>718.000000</td>\n",
       "      <td>44.000000</td>\n",
       "      <td>7.000000</td>\n",
       "      <td>127644.240000</td>\n",
       "      <td>2.000000</td>\n",
       "      <td>1.00000</td>\n",
       "      <td>1.000000</td>\n",
       "      <td>149388.247500</td>\n",
       "      <td>0.000000</td>\n",
       "    </tr>\n",
       "    <tr>\n",
       "      <th>max</th>\n",
       "      <td>850.000000</td>\n",
       "      <td>92.000000</td>\n",
       "      <td>10.000000</td>\n",
       "      <td>250898.090000</td>\n",
       "      <td>4.000000</td>\n",
       "      <td>1.00000</td>\n",
       "      <td>1.000000</td>\n",
       "      <td>199992.480000</td>\n",
       "      <td>1.000000</td>\n",
       "    </tr>\n",
       "  </tbody>\n",
       "</table>\n",
       "</div>"
      ],
      "text/plain": [
       "        CreditScore           Age       Tenure        Balance  NumOfProducts  \\\n",
       "count  10000.000000  10000.000000  9091.000000   10000.000000   10000.000000   \n",
       "mean     650.528800     38.921800     4.997690   76485.889288       1.530200   \n",
       "std       96.653299     10.487806     2.894723   62397.405202       0.581654   \n",
       "min      350.000000     18.000000     0.000000       0.000000       1.000000   \n",
       "25%      584.000000     32.000000     2.000000       0.000000       1.000000   \n",
       "50%      652.000000     37.000000     5.000000   97198.540000       1.000000   \n",
       "75%      718.000000     44.000000     7.000000  127644.240000       2.000000   \n",
       "max      850.000000     92.000000    10.000000  250898.090000       4.000000   \n",
       "\n",
       "         HasCrCard  IsActiveMember  EstimatedSalary        Exited  \n",
       "count  10000.00000    10000.000000     10000.000000  10000.000000  \n",
       "mean       0.70550        0.515100    100090.239881      0.203700  \n",
       "std        0.45584        0.499797     57510.492818      0.402769  \n",
       "min        0.00000        0.000000        11.580000      0.000000  \n",
       "25%        0.00000        0.000000     51002.110000      0.000000  \n",
       "50%        1.00000        1.000000    100193.915000      0.000000  \n",
       "75%        1.00000        1.000000    149388.247500      0.000000  \n",
       "max        1.00000        1.000000    199992.480000      1.000000  "
      ]
     },
     "execution_count": 6,
     "metadata": {},
     "output_type": "execute_result"
    }
   ],
   "source": [
    "# Взглянем на описательную статистику по датасету\n",
    "data.describe()"
   ]
  },
  {
   "cell_type": "markdown",
   "metadata": {},
   "source": [
    "В большинстве колонок заметно очень близкие значения среднего и медианы (колонки `CreditScore`, `Age`, `Tenure`, `EstimatedSalary`) - это говорит о том, что выбросов в данных нет или они минимальны. В остальных колонках разброс не настолько большой, чтобы заподозрить проблемы в данных.\n",
    "\n",
    "В целевом признаке `Exited` среднее значение равно 0,2, в то время как в столбце присутствуют значения равные либо 0, либо 1. Делаем вывод о том, что присутствует дисбаланс классов в целевом признаке.\n",
    "\n",
    "Пропуски в колонке `Tenure` заполним медианным значением."
   ]
  },
  {
   "cell_type": "code",
   "execution_count": 7,
   "metadata": {},
   "outputs": [
    {
     "data": {
      "text/plain": [
       "count    10000.00000\n",
       "mean         4.99790\n",
       "std          2.76001\n",
       "min          0.00000\n",
       "25%          3.00000\n",
       "50%          5.00000\n",
       "75%          7.00000\n",
       "max         10.00000\n",
       "Name: Tenure, dtype: float64"
      ]
     },
     "execution_count": 7,
     "metadata": {},
     "output_type": "execute_result"
    }
   ],
   "source": [
    "data.Tenure = data.Tenure.fillna(data.Tenure.median())\n",
    "data.Tenure.describe()"
   ]
  },
  {
   "cell_type": "markdown",
   "metadata": {},
   "source": [
    "#### Кодирование признаков"
   ]
  },
  {
   "cell_type": "code",
   "execution_count": 8,
   "metadata": {},
   "outputs": [
    {
     "data": {
      "text/html": [
       "<div>\n",
       "<style scoped>\n",
       "    .dataframe tbody tr th:only-of-type {\n",
       "        vertical-align: middle;\n",
       "    }\n",
       "\n",
       "    .dataframe tbody tr th {\n",
       "        vertical-align: top;\n",
       "    }\n",
       "\n",
       "    .dataframe thead th {\n",
       "        text-align: right;\n",
       "    }\n",
       "</style>\n",
       "<table border=\"1\" class=\"dataframe\">\n",
       "  <thead>\n",
       "    <tr style=\"text-align: right;\">\n",
       "      <th></th>\n",
       "      <th>CreditScore</th>\n",
       "      <th>Age</th>\n",
       "      <th>Tenure</th>\n",
       "      <th>Balance</th>\n",
       "      <th>NumOfProducts</th>\n",
       "      <th>HasCrCard</th>\n",
       "      <th>IsActiveMember</th>\n",
       "      <th>EstimatedSalary</th>\n",
       "      <th>Exited</th>\n",
       "      <th>Geography_Germany</th>\n",
       "      <th>Geography_Spain</th>\n",
       "      <th>Gender_Male</th>\n",
       "    </tr>\n",
       "  </thead>\n",
       "  <tbody>\n",
       "    <tr>\n",
       "      <th>0</th>\n",
       "      <td>619</td>\n",
       "      <td>42</td>\n",
       "      <td>2.0</td>\n",
       "      <td>0.00</td>\n",
       "      <td>1</td>\n",
       "      <td>1</td>\n",
       "      <td>1</td>\n",
       "      <td>101348.88</td>\n",
       "      <td>1</td>\n",
       "      <td>0</td>\n",
       "      <td>0</td>\n",
       "      <td>0</td>\n",
       "    </tr>\n",
       "    <tr>\n",
       "      <th>1</th>\n",
       "      <td>608</td>\n",
       "      <td>41</td>\n",
       "      <td>1.0</td>\n",
       "      <td>83807.86</td>\n",
       "      <td>1</td>\n",
       "      <td>0</td>\n",
       "      <td>1</td>\n",
       "      <td>112542.58</td>\n",
       "      <td>0</td>\n",
       "      <td>0</td>\n",
       "      <td>1</td>\n",
       "      <td>0</td>\n",
       "    </tr>\n",
       "    <tr>\n",
       "      <th>2</th>\n",
       "      <td>502</td>\n",
       "      <td>42</td>\n",
       "      <td>8.0</td>\n",
       "      <td>159660.80</td>\n",
       "      <td>3</td>\n",
       "      <td>1</td>\n",
       "      <td>0</td>\n",
       "      <td>113931.57</td>\n",
       "      <td>1</td>\n",
       "      <td>0</td>\n",
       "      <td>0</td>\n",
       "      <td>0</td>\n",
       "    </tr>\n",
       "    <tr>\n",
       "      <th>3</th>\n",
       "      <td>699</td>\n",
       "      <td>39</td>\n",
       "      <td>1.0</td>\n",
       "      <td>0.00</td>\n",
       "      <td>2</td>\n",
       "      <td>0</td>\n",
       "      <td>0</td>\n",
       "      <td>93826.63</td>\n",
       "      <td>0</td>\n",
       "      <td>0</td>\n",
       "      <td>0</td>\n",
       "      <td>0</td>\n",
       "    </tr>\n",
       "    <tr>\n",
       "      <th>4</th>\n",
       "      <td>850</td>\n",
       "      <td>43</td>\n",
       "      <td>2.0</td>\n",
       "      <td>125510.82</td>\n",
       "      <td>1</td>\n",
       "      <td>1</td>\n",
       "      <td>1</td>\n",
       "      <td>79084.10</td>\n",
       "      <td>0</td>\n",
       "      <td>0</td>\n",
       "      <td>1</td>\n",
       "      <td>0</td>\n",
       "    </tr>\n",
       "  </tbody>\n",
       "</table>\n",
       "</div>"
      ],
      "text/plain": [
       "   CreditScore  Age  Tenure    Balance  NumOfProducts  HasCrCard  \\\n",
       "0          619   42     2.0       0.00              1          1   \n",
       "1          608   41     1.0   83807.86              1          0   \n",
       "2          502   42     8.0  159660.80              3          1   \n",
       "3          699   39     1.0       0.00              2          0   \n",
       "4          850   43     2.0  125510.82              1          1   \n",
       "\n",
       "   IsActiveMember  EstimatedSalary  Exited  Geography_Germany  \\\n",
       "0               1        101348.88       1                  0   \n",
       "1               1        112542.58       0                  0   \n",
       "2               0        113931.57       1                  0   \n",
       "3               0         93826.63       0                  0   \n",
       "4               1         79084.10       0                  0   \n",
       "\n",
       "   Geography_Spain  Gender_Male  \n",
       "0                0            0  \n",
       "1                1            0  \n",
       "2                0            0  \n",
       "3                0            0  \n",
       "4                1            0  "
      ]
     },
     "execution_count": 8,
     "metadata": {},
     "output_type": "execute_result"
    }
   ],
   "source": [
    "# Перекодируем категориальные признаки с помощью прямого кодирования\n",
    "# В отличии от порядкового кодирования, с прямым кодированием\n",
    "# у нас будет возможность обучить модель логистической регрессии\n",
    "data_ohe = pd.get_dummies(data, drop_first=True)\n",
    "\n",
    "data_ohe.head()"
   ]
  },
  {
   "cell_type": "markdown",
   "metadata": {},
   "source": [
    "#### Разделение датасета на выборки "
   ]
  },
  {
   "cell_type": "code",
   "execution_count": 9,
   "metadata": {},
   "outputs": [
    {
     "data": {
      "text/plain": [
       "(8000, 11)"
      ]
     },
     "metadata": {},
     "output_type": "display_data"
    },
    {
     "data": {
      "text/plain": [
       "(2000, 11)"
      ]
     },
     "execution_count": 9,
     "metadata": {},
     "output_type": "execute_result"
    }
   ],
   "source": [
    "# Разделим датасет на две выборки: учебную и тестовую в соотношении 0.8/0.2\n",
    "target = data_ohe['Exited']\n",
    "features = data_ohe.drop('Exited', axis=1)\n",
    "\n",
    "features_train, features_test, target_train, target_test = train_test_split(\n",
    "    features, target, test_size=0.2, random_state=987654)\n",
    "\n",
    "#Проверим размер полученных выборок\n",
    "display(features_train.shape)\n",
    "features_test.shape"
   ]
  },
  {
   "cell_type": "markdown",
   "metadata": {},
   "source": [
    "#### Масштабирование признаков"
   ]
  },
  {
   "cell_type": "code",
   "execution_count": 10,
   "metadata": {},
   "outputs": [
    {
     "data": {
      "text/html": [
       "<div>\n",
       "<style scoped>\n",
       "    .dataframe tbody tr th:only-of-type {\n",
       "        vertical-align: middle;\n",
       "    }\n",
       "\n",
       "    .dataframe tbody tr th {\n",
       "        vertical-align: top;\n",
       "    }\n",
       "\n",
       "    .dataframe thead th {\n",
       "        text-align: right;\n",
       "    }\n",
       "</style>\n",
       "<table border=\"1\" class=\"dataframe\">\n",
       "  <thead>\n",
       "    <tr style=\"text-align: right;\">\n",
       "      <th></th>\n",
       "      <th>CreditScore</th>\n",
       "      <th>Age</th>\n",
       "      <th>Tenure</th>\n",
       "      <th>Balance</th>\n",
       "      <th>NumOfProducts</th>\n",
       "      <th>HasCrCard</th>\n",
       "      <th>IsActiveMember</th>\n",
       "      <th>EstimatedSalary</th>\n",
       "      <th>Geography_Germany</th>\n",
       "      <th>Geography_Spain</th>\n",
       "      <th>Gender_Male</th>\n",
       "    </tr>\n",
       "  </thead>\n",
       "  <tbody>\n",
       "    <tr>\n",
       "      <th>7879</th>\n",
       "      <td>0.071142</td>\n",
       "      <td>0.484122</td>\n",
       "      <td>0.358296</td>\n",
       "      <td>0.006938</td>\n",
       "      <td>-0.917482</td>\n",
       "      <td>1</td>\n",
       "      <td>0</td>\n",
       "      <td>-0.361583</td>\n",
       "      <td>0</td>\n",
       "      <td>0</td>\n",
       "      <td>1</td>\n",
       "    </tr>\n",
       "    <tr>\n",
       "      <th>690</th>\n",
       "      <td>0.680740</td>\n",
       "      <td>-1.135174</td>\n",
       "      <td>-1.458619</td>\n",
       "      <td>0.746340</td>\n",
       "      <td>0.808325</td>\n",
       "      <td>1</td>\n",
       "      <td>0</td>\n",
       "      <td>-0.560969</td>\n",
       "      <td>1</td>\n",
       "      <td>0</td>\n",
       "      <td>1</td>\n",
       "    </tr>\n",
       "    <tr>\n",
       "      <th>5841</th>\n",
       "      <td>0.267453</td>\n",
       "      <td>0.960385</td>\n",
       "      <td>-1.458619</td>\n",
       "      <td>-1.221111</td>\n",
       "      <td>-0.917482</td>\n",
       "      <td>1</td>\n",
       "      <td>0</td>\n",
       "      <td>-0.356879</td>\n",
       "      <td>0</td>\n",
       "      <td>0</td>\n",
       "      <td>0</td>\n",
       "    </tr>\n",
       "    <tr>\n",
       "      <th>1124</th>\n",
       "      <td>-0.455798</td>\n",
       "      <td>-0.373152</td>\n",
       "      <td>-0.005087</td>\n",
       "      <td>-1.221111</td>\n",
       "      <td>-0.917482</td>\n",
       "      <td>1</td>\n",
       "      <td>0</td>\n",
       "      <td>0.121463</td>\n",
       "      <td>0</td>\n",
       "      <td>1</td>\n",
       "      <td>1</td>\n",
       "    </tr>\n",
       "    <tr>\n",
       "      <th>1183</th>\n",
       "      <td>0.019481</td>\n",
       "      <td>-0.277900</td>\n",
       "      <td>-1.458619</td>\n",
       "      <td>-1.221111</td>\n",
       "      <td>0.808325</td>\n",
       "      <td>1</td>\n",
       "      <td>1</td>\n",
       "      <td>0.895270</td>\n",
       "      <td>0</td>\n",
       "      <td>0</td>\n",
       "      <td>1</td>\n",
       "    </tr>\n",
       "  </tbody>\n",
       "</table>\n",
       "</div>"
      ],
      "text/plain": [
       "      CreditScore       Age    Tenure   Balance  NumOfProducts  HasCrCard  \\\n",
       "7879     0.071142  0.484122  0.358296  0.006938      -0.917482          1   \n",
       "690      0.680740 -1.135174 -1.458619  0.746340       0.808325          1   \n",
       "5841     0.267453  0.960385 -1.458619 -1.221111      -0.917482          1   \n",
       "1124    -0.455798 -0.373152 -0.005087 -1.221111      -0.917482          1   \n",
       "1183     0.019481 -0.277900 -1.458619 -1.221111       0.808325          1   \n",
       "\n",
       "      IsActiveMember  EstimatedSalary  Geography_Germany  Geography_Spain  \\\n",
       "7879               0        -0.361583                  0                0   \n",
       "690                0        -0.560969                  1                0   \n",
       "5841               0        -0.356879                  0                0   \n",
       "1124               0         0.121463                  0                1   \n",
       "1183               1         0.895270                  0                0   \n",
       "\n",
       "      Gender_Male  \n",
       "7879            1  \n",
       "690             1  \n",
       "5841            0  \n",
       "1124            1  \n",
       "1183            1  "
      ]
     },
     "execution_count": 10,
     "metadata": {},
     "output_type": "execute_result"
    }
   ],
   "source": [
    "# Отмасштабируем признаки в выборках\n",
    "numeric = [\n",
    "    'CreditScore', \n",
    "    'Age', \n",
    "    'Tenure', \n",
    "    'Balance', \n",
    "    'NumOfProducts', \n",
    "    'EstimatedSalary',\n",
    "]\n",
    "\n",
    "scaler = StandardScaler()\n",
    "scaler.fit(features_train[numeric])\n",
    "\n",
    "features_train[numeric] = scaler.transform(features_train[numeric])\n",
    "features_test[numeric] = scaler.transform(features_test[numeric])\n",
    "\n",
    "# Выведем на экран отмасштабированную учебную выборку\n",
    "features_train.head()"
   ]
  },
  {
   "cell_type": "markdown",
   "metadata": {},
   "source": [
    "## Исследование задачи"
   ]
  },
  {
   "cell_type": "markdown",
   "metadata": {},
   "source": [
    "Обучим модели на несбалансированной выборке и оценим результат."
   ]
  },
  {
   "cell_type": "markdown",
   "metadata": {},
   "source": [
    "### Логистическая регрессия "
   ]
  },
  {
   "cell_type": "markdown",
   "metadata": {},
   "source": [
    "С помощью GridSearchCV обучим модель логистической регрессии на несбалансированной целевой выборке."
   ]
  },
  {
   "cell_type": "code",
   "execution_count": 11,
   "metadata": {
    "scrolled": true
   },
   "outputs": [
    {
     "data": {
      "text/plain": [
       "'Значение F1-меры: 0.3143768404423093'"
      ]
     },
     "metadata": {},
     "output_type": "display_data"
    },
    {
     "name": "stdout",
     "output_type": "stream",
     "text": [
      "CPU times: user 2.29 s, sys: 3.99 s, total: 6.28 s\n",
      "Wall time: 6.28 s\n"
     ]
    },
    {
     "data": {
      "text/plain": [
       "\"Лучшие параметры: {'solver': 'newton-cg'}\""
      ]
     },
     "execution_count": 11,
     "metadata": {},
     "output_type": "execute_result"
    }
   ],
   "source": [
    "%%time\n",
    "\n",
    "parameters = {\n",
    "    'solver': ['newton-cg', 'lbfgs', 'liblinear', 'sag', 'saga']\n",
    "}\n",
    "\n",
    "model = LogisticRegression(random_state=987654)\n",
    "grid_model = GridSearchCV(model, parameters, scoring='f1')\n",
    "grid_model.fit(features_train, target_train)\n",
    "\n",
    "display(f'Значение F1-меры: {grid_model.best_score_}')\n",
    "f'Лучшие параметры: {grid_model.best_params_}'"
   ]
  },
  {
   "cell_type": "markdown",
   "metadata": {},
   "source": [
    "В результате значение F1-меры (среднее гармоническое метрик Recall и Precision) равно 0,3144. Это весьма небольшое значение (чем ближе к 1, тем лучше). Можем утверждать, что классификация целевого признака не удалась."
   ]
  },
  {
   "cell_type": "markdown",
   "metadata": {},
   "source": [
    "### Дерево решений "
   ]
  },
  {
   "cell_type": "markdown",
   "metadata": {},
   "source": [
    "Теперь обучим дерево решений на случайной выборке и оценим значение метрики F1."
   ]
  },
  {
   "cell_type": "code",
   "execution_count": 12,
   "metadata": {},
   "outputs": [
    {
     "data": {
      "text/plain": [
       "'Значение F1-меры: 0.5574881549023408'"
      ]
     },
     "metadata": {},
     "output_type": "display_data"
    },
    {
     "name": "stdout",
     "output_type": "stream",
     "text": [
      "CPU times: user 20.6 s, sys: 0 ns, total: 20.6 s\n",
      "Wall time: 20.7 s\n"
     ]
    },
    {
     "data": {
      "text/plain": [
       "\"Лучшие параметры: {'max_depth': 10, 'min_samples_leaf': 2, 'min_samples_split': 6}\""
      ]
     },
     "execution_count": 12,
     "metadata": {},
     "output_type": "execute_result"
    }
   ],
   "source": [
    "%%time\n",
    "\n",
    "parameters = {\n",
    "    'max_depth': range(5, 51, 5),\n",
    "    'min_samples_leaf': range(1, 6),\n",
    "    'min_samples_split': range(2, 7, 2) \n",
    "}\n",
    "\n",
    "model = DecisionTreeClassifier(random_state=987654)\n",
    "grid_model = GridSearchCV(model, parameters, scoring='f1')\n",
    "grid_model.fit(features_train, target_train)\n",
    "\n",
    "display(f'Значение F1-меры: {grid_model.best_score_}')\n",
    "f'Лучшие параметры: {grid_model.best_params_}'"
   ]
  },
  {
   "cell_type": "markdown",
   "metadata": {},
   "source": [
    "Неожиданно высокое значение F1-меры: 0,5574. Интересно, какие результаты будут после балансировки классов."
   ]
  },
  {
   "cell_type": "markdown",
   "metadata": {},
   "source": [
    "### Случайный лес "
   ]
  },
  {
   "cell_type": "markdown",
   "metadata": {},
   "source": [
    "Теперь обучим модель случайного леса на этой же выборке."
   ]
  },
  {
   "cell_type": "code",
   "execution_count": 13,
   "metadata": {},
   "outputs": [
    {
     "data": {
      "text/plain": [
       "'Значение F1-меры: 0.5745305849559614'"
      ]
     },
     "metadata": {},
     "output_type": "display_data"
    },
    {
     "name": "stdout",
     "output_type": "stream",
     "text": [
      "CPU times: user 1min 30s, sys: 0 ns, total: 1min 30s\n",
      "Wall time: 1min 32s\n"
     ]
    },
    {
     "data": {
      "text/plain": [
       "\"Лучшие параметры: {'max_depth': 10, 'min_samples_leaf': 2, 'min_samples_split': 2, 'n_estimators': 70}\""
      ]
     },
     "execution_count": 13,
     "metadata": {},
     "output_type": "execute_result"
    }
   ],
   "source": [
    "%%time\n",
    "\n",
    "parameters = {\n",
    "    'n_estimators': range(70, 101, 10),\n",
    "    'max_depth': range(5, 11, 5),\n",
    "    'min_samples_leaf': range(1, 4),\n",
    "    'min_samples_split': range(2, 5, 2) \n",
    "}\n",
    "\n",
    "model = RandomForestClassifier(random_state=987654)\n",
    "grid_model = GridSearchCV(model, parameters, scoring='f1')\n",
    "grid_model.fit(features_train, target_train)\n",
    "\n",
    "display(f'Значение F1-меры: {grid_model.best_score_}')\n",
    "f'Лучшие параметры: {grid_model.best_params_}'"
   ]
  },
  {
   "cell_type": "markdown",
   "metadata": {},
   "source": [
    "В случае случайного дерева поиск оптимальных гиперпараметров занял больше одной минуты. В результате получено значение F1-меры, равное 0,5745. Это почти на 0,3 больше, чем результат логистической регрессии, и больше, чем у дерева решений."
   ]
  },
  {
   "cell_type": "markdown",
   "metadata": {},
   "source": [
    "### Вывод"
   ]
  },
  {
   "cell_type": "markdown",
   "metadata": {},
   "source": [
    "В результате обучения моделей логистической регрессии, дерева решений и случайного леса на несбалансированной выборке получены следующие значения F1-меры:\n",
    "1. Логистическая регрессия. F1-score = 0.3143\n",
    "2. Дерево решений. F1-score = 0.5574\n",
    "3. Случайный лес. F1-score = 0.5745\n",
    "\n",
    "Неожиданно высокий результат F1-меры был получен при использовании дерева решений. Ещё более высокий результат был получен у случайного леса. Продолжим обучение моделей с учётом дисбаланса классов."
   ]
  },
  {
   "cell_type": "markdown",
   "metadata": {},
   "source": [
    "## Борьба с дисбалансом"
   ]
  },
  {
   "cell_type": "markdown",
   "metadata": {},
   "source": [
    "### Гиперпараметр class_weight"
   ]
  },
  {
   "cell_type": "markdown",
   "metadata": {},
   "source": [
    "Обучим наши модели с указанием гиперпараметра `class_weight='balanced'`."
   ]
  },
  {
   "cell_type": "markdown",
   "metadata": {},
   "source": [
    "#### Логистическая регрессия "
   ]
  },
  {
   "cell_type": "code",
   "execution_count": 15,
   "metadata": {
    "scrolled": true
   },
   "outputs": [
    {
     "data": {
      "text/plain": [
       "'Значение F1-меры: 0.496125711137695'"
      ]
     },
     "metadata": {},
     "output_type": "display_data"
    },
    {
     "name": "stdout",
     "output_type": "stream",
     "text": [
      "CPU times: user 2.29 s, sys: 3.38 s, total: 5.67 s\n",
      "Wall time: 5.62 s\n"
     ]
    },
    {
     "data": {
      "text/plain": [
       "\"Лучшие параметры: {'solver': 'liblinear'}\""
      ]
     },
     "execution_count": 15,
     "metadata": {},
     "output_type": "execute_result"
    }
   ],
   "source": [
    "%%time\n",
    "\n",
    "parameters = {\n",
    "    'solver': ['newton-cg', 'lbfgs', 'liblinear', 'sag', 'saga']\n",
    "}\n",
    "\n",
    "model = LogisticRegression(random_state=987654, class_weight='balanced')\n",
    "grid_model = GridSearchCV(model, parameters, scoring='f1')\n",
    "grid_model.fit(features_train, target_train)\n",
    "\n",
    "display(f'Значение F1-меры: {grid_model.best_score_}')\n",
    "f'Лучшие параметры: {grid_model.best_params_}'"
   ]
  },
  {
   "cell_type": "markdown",
   "metadata": {},
   "source": [
    "* Значение F1-меры на несбалансированной выборке: 0.3143  \n",
    "* Значение F1-меры при использовании гиперпараметра `class_weight`: 0.4961"
   ]
  },
  {
   "cell_type": "markdown",
   "metadata": {},
   "source": [
    "Значение F1-меры для логистической регрессии улучшилось на 0.18."
   ]
  },
  {
   "cell_type": "markdown",
   "metadata": {},
   "source": [
    "#### Дерево решений "
   ]
  },
  {
   "cell_type": "markdown",
   "metadata": {},
   "source": [
    "Проведём перебор гиперпараметров для дерева решений."
   ]
  },
  {
   "cell_type": "code",
   "execution_count": 16,
   "metadata": {},
   "outputs": [
    {
     "data": {
      "text/plain": [
       "'Значение F1-меры: 0.5667647799361514'"
      ]
     },
     "metadata": {},
     "output_type": "display_data"
    },
    {
     "name": "stdout",
     "output_type": "stream",
     "text": [
      "CPU times: user 20.6 s, sys: 20.4 ms, total: 20.6 s\n",
      "Wall time: 20.7 s\n"
     ]
    },
    {
     "data": {
      "text/plain": [
       "\"Лучшие параметры: {'max_depth': 5, 'min_samples_leaf': 2, 'min_samples_split': 2}\""
      ]
     },
     "execution_count": 16,
     "metadata": {},
     "output_type": "execute_result"
    }
   ],
   "source": [
    "%%time\n",
    "\n",
    "parameters = {\n",
    "    'max_depth': range(5, 51, 5),\n",
    "    'min_samples_leaf': range(1, 6),\n",
    "    'min_samples_split': range(2, 7, 2) \n",
    "}\n",
    "\n",
    "model = DecisionTreeClassifier(random_state=987654, class_weight='balanced')\n",
    "grid_model = GridSearchCV(model, parameters, scoring='f1')\n",
    "grid_model.fit(features_train, target_train)\n",
    "\n",
    "display(f'Значение F1-меры: {grid_model.best_score_}')\n",
    "f'Лучшие параметры: {grid_model.best_params_}'"
   ]
  },
  {
   "cell_type": "markdown",
   "metadata": {},
   "source": [
    "* Значение F1-меры на несбалансированной выборке: 0.5574  \n",
    "* Значение F1-меры при использовании гиперпараметра `class_weight`: 0.5667"
   ]
  },
  {
   "cell_type": "markdown",
   "metadata": {},
   "source": [
    "F1-мера оказалась чуть лучше, чем на несбалансированной выборке."
   ]
  },
  {
   "cell_type": "markdown",
   "metadata": {},
   "source": [
    "#### Случайный лес"
   ]
  },
  {
   "cell_type": "markdown",
   "metadata": {},
   "source": [
    "Проведём поиск гиперпараметров для модели случайного леса."
   ]
  },
  {
   "cell_type": "code",
   "execution_count": 17,
   "metadata": {},
   "outputs": [
    {
     "data": {
      "text/plain": [
       "'Значение F1-меры: 0.6239876324602951'"
      ]
     },
     "metadata": {},
     "output_type": "display_data"
    },
    {
     "name": "stdout",
     "output_type": "stream",
     "text": [
      "CPU times: user 1min 31s, sys: 238 ms, total: 1min 31s\n",
      "Wall time: 1min 31s\n"
     ]
    },
    {
     "data": {
      "text/plain": [
       "\"Лучшие параметры: {'max_depth': 10, 'min_samples_leaf': 3, 'min_samples_split': 2, 'n_estimators': 100}\""
      ]
     },
     "execution_count": 17,
     "metadata": {},
     "output_type": "execute_result"
    }
   ],
   "source": [
    "%%time\n",
    "\n",
    "parameters = {\n",
    "    'n_estimators': range(70, 101, 10),\n",
    "    'max_depth': range(5, 11, 5),\n",
    "    'min_samples_leaf': range(1, 4),\n",
    "    'min_samples_split': range(2, 5, 2) \n",
    "}\n",
    "\n",
    "model = RandomForestClassifier(random_state=987654, class_weight='balanced')\n",
    "grid_model = GridSearchCV(model, parameters, scoring='f1')\n",
    "grid_model.fit(features_train, target_train)\n",
    "\n",
    "display(f'Значение F1-меры: {grid_model.best_score_}')\n",
    "f'Лучшие параметры: {grid_model.best_params_}'"
   ]
  },
  {
   "cell_type": "markdown",
   "metadata": {},
   "source": [
    "Больше 1 минуты занял поиск оптимальных гиперпараметров."
   ]
  },
  {
   "cell_type": "markdown",
   "metadata": {},
   "source": [
    "* Значение F1-меры на несбалансированной выборке: 0.5745  \n",
    "* Значение F1-меры при использовании гиперпараметра `class_weight`: 0.6239  "
   ]
  },
  {
   "cell_type": "markdown",
   "metadata": {},
   "source": [
    "#### Вывод "
   ]
  },
  {
   "cell_type": "markdown",
   "metadata": {},
   "source": [
    "При использовании гиперпараметра `class_weight` лучше всего себя показала модель случайного леса со значением F1-меры равным 0,6239."
   ]
  },
  {
   "cell_type": "markdown",
   "metadata": {},
   "source": [
    "### Upsampling "
   ]
  },
  {
   "cell_type": "markdown",
   "metadata": {},
   "source": [
    "Применим технику upsampling для увеличения выборки минорного класса."
   ]
  },
  {
   "cell_type": "code",
   "execution_count": 18,
   "metadata": {},
   "outputs": [
    {
     "data": {
      "text/plain": [
       "'Количество объектов класса \"0\": 6373'"
      ]
     },
     "metadata": {},
     "output_type": "display_data"
    },
    {
     "data": {
      "text/plain": [
       "'Количество объектов класса \"1\": 1627'"
      ]
     },
     "execution_count": 18,
     "metadata": {},
     "output_type": "execute_result"
    }
   ],
   "source": [
    "# Проверим ещё раз баланс классов\n",
    "display(f'Количество объектов класса \"0\": {target_train[target_train == 0].shape[0]}')\n",
    "f'Количество объектов класса \"1\": {target_train[target_train == 1].shape[0]}'"
   ]
  },
  {
   "cell_type": "markdown",
   "metadata": {},
   "source": [
    "Необходимо увеличить количество объектов класса \"1\". Увеличим количество объектов в 4 раза. Для этого напишем и применим следующую функцию."
   ]
  },
  {
   "cell_type": "code",
   "execution_count": 19,
   "metadata": {},
   "outputs": [
    {
     "data": {
      "text/plain": [
       "'Количество объектов класса \"0\": 6373'"
      ]
     },
     "metadata": {},
     "output_type": "display_data"
    },
    {
     "data": {
      "text/plain": [
       "'Количество объектов класса \"1\": 6508'"
      ]
     },
     "execution_count": 19,
     "metadata": {},
     "output_type": "execute_result"
    }
   ],
   "source": [
    "def upsample(features, target, repeat):\n",
    "    features_zeros = features[target == 0]\n",
    "    features_ones = features[target == 1]\n",
    "    target_zeros = target[target == 0]\n",
    "    target_ones = target[target == 1]\n",
    "\n",
    "    features_upsampled = pd.concat([features_zeros] + [features_ones] * repeat)\n",
    "    target_upsampled = pd.concat([target_zeros] + [target_ones] * repeat)\n",
    "    \n",
    "    features_upsampled, target_upsampled = shuffle(\n",
    "        features_upsampled, target_upsampled, random_state=987654)\n",
    "    \n",
    "    return features_upsampled, target_upsampled\n",
    "\n",
    "features_upsampled, target_upsampled = upsample(features_train, target_train, 4)\n",
    "\n",
    "display(f'Количество объектов класса \"0\": {target_upsampled[target_upsampled == 0].shape[0]}')\n",
    "f'Количество объектов класса \"1\": {target_upsampled[target_upsampled == 1].shape[0]}'"
   ]
  },
  {
   "cell_type": "markdown",
   "metadata": {},
   "source": [
    "#### Логистическая регрессия "
   ]
  },
  {
   "cell_type": "code",
   "execution_count": 20,
   "metadata": {
    "scrolled": true
   },
   "outputs": [
    {
     "data": {
      "text/plain": [
       "'Значение F1-меры: 0.70704767893115'"
      ]
     },
     "metadata": {},
     "output_type": "display_data"
    },
    {
     "name": "stdout",
     "output_type": "stream",
     "text": [
      "CPU times: user 3.12 s, sys: 4.19 s, total: 7.31 s\n",
      "Wall time: 7.31 s\n"
     ]
    },
    {
     "data": {
      "text/plain": [
       "\"Лучшие параметры: {'solver': 'liblinear'}\""
      ]
     },
     "execution_count": 20,
     "metadata": {},
     "output_type": "execute_result"
    }
   ],
   "source": [
    "%%time\n",
    "\n",
    "parameters = {\n",
    "    'solver': ['newton-cg', 'lbfgs', 'liblinear', 'sag', 'saga']\n",
    "}\n",
    "\n",
    "model = LogisticRegression(random_state=987654)\n",
    "grid_model = GridSearchCV(model, parameters, scoring='f1')\n",
    "grid_model.fit(features_upsampled, target_upsampled)\n",
    "\n",
    "display(f'Значение F1-меры: {grid_model.best_score_}')\n",
    "f'Лучшие параметры: {grid_model.best_params_}'"
   ]
  },
  {
   "cell_type": "markdown",
   "metadata": {},
   "source": [
    "* Значение F1-меры на несбалансированной выборке: 0.3143  \n",
    "* Значение F1-меры при использовании гиперпараметра `class_weight`: 0.4961  \n",
    "* Значение F1-меры при использовании техники upsampling: 0.7070\n",
    "\n",
    "Значение F1-меры выше гораздо выше, чем при использовании гиперпараметра `class_weight`!"
   ]
  },
  {
   "cell_type": "markdown",
   "metadata": {},
   "source": [
    "#### Дерево решений "
   ]
  },
  {
   "cell_type": "markdown",
   "metadata": {},
   "source": [
    "Проведём перебор гиперпараметров для дерева решений."
   ]
  },
  {
   "cell_type": "code",
   "execution_count": 21,
   "metadata": {},
   "outputs": [
    {
     "data": {
      "text/plain": [
       "'Значение F1-меры: 0.9312366176192194'"
      ]
     },
     "metadata": {},
     "output_type": "display_data"
    },
    {
     "name": "stdout",
     "output_type": "stream",
     "text": [
      "CPU times: user 27.1 s, sys: 30.6 ms, total: 27.1 s\n",
      "Wall time: 27.2 s\n"
     ]
    },
    {
     "data": {
      "text/plain": [
       "\"Лучшие параметры: {'max_depth': 25, 'min_samples_leaf': 1, 'min_samples_split': 2}\""
      ]
     },
     "execution_count": 21,
     "metadata": {},
     "output_type": "execute_result"
    }
   ],
   "source": [
    "%%time\n",
    "\n",
    "parameters = {\n",
    "    'max_depth': range(5, 51, 5),\n",
    "    'min_samples_leaf': range(1, 6),\n",
    "    'min_samples_split': range(2, 7, 2) \n",
    "}\n",
    "\n",
    "model = DecisionTreeClassifier(random_state=987654)\n",
    "grid_model = GridSearchCV(model, parameters, scoring='f1')\n",
    "grid_model.fit(features_upsampled, target_upsampled)\n",
    "\n",
    "display(f'Значение F1-меры: {grid_model.best_score_}')\n",
    "f'Лучшие параметры: {grid_model.best_params_}'"
   ]
  },
  {
   "cell_type": "markdown",
   "metadata": {},
   "source": [
    "* Значение F1-меры на несбалансированной выборке: 0.5574  \n",
    "* Значение F1-меры при использовании гиперпараметра `class_weight`: 0.5667\n",
    "* Значение F1-меры при использовании техники upsampling: 0.9312\n",
    "\n",
    "Значение F1-меры гораздо выше, чем при использовании гиперпараметра `class_weight`! "
   ]
  },
  {
   "cell_type": "markdown",
   "metadata": {},
   "source": [
    "#### Случайный лес"
   ]
  },
  {
   "cell_type": "markdown",
   "metadata": {},
   "source": [
    "Проведём поиск гиперпараметров для модели случайного леса."
   ]
  },
  {
   "cell_type": "code",
   "execution_count": 22,
   "metadata": {},
   "outputs": [
    {
     "data": {
      "text/plain": [
       "'Значение F1-меры: 0.8547753805210812'"
      ]
     },
     "metadata": {},
     "output_type": "display_data"
    },
    {
     "name": "stdout",
     "output_type": "stream",
     "text": [
      "CPU times: user 2min 8s, sys: 285 ms, total: 2min 8s\n",
      "Wall time: 2min 8s\n"
     ]
    },
    {
     "data": {
      "text/plain": [
       "\"Лучшие параметры: {'max_depth': 10, 'min_samples_leaf': 1, 'min_samples_split': 4, 'n_estimators': 100}\""
      ]
     },
     "execution_count": 22,
     "metadata": {},
     "output_type": "execute_result"
    }
   ],
   "source": [
    "%%time\n",
    "\n",
    "parameters = {\n",
    "    'n_estimators': range(70, 101, 10),\n",
    "    'max_depth': range(5, 11, 5),\n",
    "    'min_samples_leaf': range(1, 4),\n",
    "    'min_samples_split': range(2, 5, 2) \n",
    "}\n",
    "\n",
    "model = RandomForestClassifier(random_state=987654)\n",
    "grid_model = GridSearchCV(model, parameters, scoring='f1')\n",
    "grid_model.fit(features_upsampled, target_upsampled)\n",
    "\n",
    "display(f'Значение F1-меры: {grid_model.best_score_}')\n",
    "f'Лучшие параметры: {grid_model.best_params_}'"
   ]
  },
  {
   "cell_type": "markdown",
   "metadata": {},
   "source": [
    "* Значение F1-меры на несбалансированной выборке: 0.5745  \n",
    "* Значение F1-меры при использовании гиперпараметра `class_weight`: 0.6239 \n",
    "* Значение F1-меры при использовании техники upsampling: 0.8547"
   ]
  },
  {
   "cell_type": "markdown",
   "metadata": {},
   "source": [
    "#### Вывод "
   ]
  },
  {
   "cell_type": "markdown",
   "metadata": {},
   "source": [
    "При использовании техники upsampling все модели показали результаты лучше, чем при использовании гиперпараметра `class_weight` и обучения на несбалансированной выборке. Самые лучшие результаты были получены при использовании модели дерева решений и F1-мера оказалась равна 0,9312."
   ]
  },
  {
   "cell_type": "markdown",
   "metadata": {},
   "source": [
    "### Downsampling "
   ]
  },
  {
   "cell_type": "markdown",
   "metadata": {},
   "source": [
    "Применим технику downsampling для уменьшения выборки мажорного класса."
   ]
  },
  {
   "cell_type": "code",
   "execution_count": 23,
   "metadata": {},
   "outputs": [
    {
     "data": {
      "text/plain": [
       "'Количество объектов класса \"0\": 6373'"
      ]
     },
     "metadata": {},
     "output_type": "display_data"
    },
    {
     "data": {
      "text/plain": [
       "'Количество объектов класса \"1\": 1627'"
      ]
     },
     "execution_count": 23,
     "metadata": {},
     "output_type": "execute_result"
    }
   ],
   "source": [
    "# Проверим ещё раз баланс классов\n",
    "display(f'Количество объектов класса \"0\": {target_train[target_train == 0].shape[0]}')\n",
    "f'Количество объектов класса \"1\": {target_train[target_train == 1].shape[0]}'"
   ]
  },
  {
   "cell_type": "markdown",
   "metadata": {},
   "source": [
    "Необходимо уменьшить количество объектов класса \"0\". Уменьшим количество объектов в 4 раза. Для этого напишем и применим следующую функцию."
   ]
  },
  {
   "cell_type": "code",
   "execution_count": 24,
   "metadata": {},
   "outputs": [
    {
     "data": {
      "text/plain": [
       "'Количество объектов класса \"0\": 1593'"
      ]
     },
     "metadata": {},
     "output_type": "display_data"
    },
    {
     "data": {
      "text/plain": [
       "'Количество объектов класса \"1\": 1627'"
      ]
     },
     "execution_count": 24,
     "metadata": {},
     "output_type": "execute_result"
    }
   ],
   "source": [
    "def downsample(features, target, fraction):\n",
    "    features_zeros = features[target == 0]\n",
    "    features_ones = features[target == 1]\n",
    "    target_zeros = target[target == 0]\n",
    "    target_ones = target[target == 1]\n",
    "\n",
    "    features_downsampled = pd.concat(\n",
    "        [features_zeros.sample(frac=fraction, random_state=987654)] + [features_ones])\n",
    "    target_downsampled = pd.concat(\n",
    "        [target_zeros.sample(frac=fraction, random_state=987654)] + [target_ones])\n",
    "    \n",
    "    features_downsampled, target_downsampled = shuffle(\n",
    "        features_downsampled, target_downsampled, random_state=987654)\n",
    "    \n",
    "    return features_downsampled, target_downsampled\n",
    "\n",
    "features_downsampled, target_downsampled = downsample(features_train, target_train, 0.25)\n",
    "\n",
    "display(f'Количество объектов класса \"0\": {target_downsampled[target_downsampled == 0].shape[0]}')\n",
    "f'Количество объектов класса \"1\": {target_downsampled[target_downsampled == 1].shape[0]}'"
   ]
  },
  {
   "cell_type": "markdown",
   "metadata": {},
   "source": [
    "#### Логистическая регрессия "
   ]
  },
  {
   "cell_type": "code",
   "execution_count": 25,
   "metadata": {
    "scrolled": true
   },
   "outputs": [
    {
     "data": {
      "text/plain": [
       "'Значение F1-меры: 0.708472106322176'"
      ]
     },
     "metadata": {},
     "output_type": "display_data"
    },
    {
     "name": "stdout",
     "output_type": "stream",
     "text": [
      "CPU times: user 1.1 s, sys: 1.18 s, total: 2.28 s\n",
      "Wall time: 2.28 s\n"
     ]
    },
    {
     "data": {
      "text/plain": [
       "\"Лучшие параметры: {'solver': 'liblinear'}\""
      ]
     },
     "execution_count": 25,
     "metadata": {},
     "output_type": "execute_result"
    }
   ],
   "source": [
    "%%time\n",
    "\n",
    "parameters = {\n",
    "    'solver': ['newton-cg', 'lbfgs', 'liblinear', 'sag', 'saga']\n",
    "}\n",
    "\n",
    "model = LogisticRegression(random_state=987654)\n",
    "grid_model = GridSearchCV(model, parameters, scoring='f1')\n",
    "grid_model.fit(features_downsampled, target_downsampled)\n",
    "\n",
    "display(f'Значение F1-меры: {grid_model.best_score_}')\n",
    "f'Лучшие параметры: {grid_model.best_params_}'"
   ]
  },
  {
   "cell_type": "markdown",
   "metadata": {},
   "source": [
    "* Значение F1-меры на несбалансированной выборке: 0.3143  \n",
    "* Значение F1-меры при использовании гиперпараметра `class_weight`: 0.4961  \n",
    "* Значение F1-меры при использовании техники upsampling: 0.7070\n",
    "* Значение F1-меры при использовании техники downsampling: 0.7084\n",
    "\n",
    "Значение F1-меры чуть выше, чем при использовании гиперпараметра `class_weight` и техники upsampling."
   ]
  },
  {
   "cell_type": "markdown",
   "metadata": {},
   "source": [
    "#### Дерево решений "
   ]
  },
  {
   "cell_type": "markdown",
   "metadata": {},
   "source": [
    "Проведём перебор гиперпараметров для дерева решений."
   ]
  },
  {
   "cell_type": "code",
   "execution_count": 26,
   "metadata": {},
   "outputs": [
    {
     "data": {
      "text/plain": [
       "'Значение F1-меры: 0.7350604707303312'"
      ]
     },
     "metadata": {},
     "output_type": "display_data"
    },
    {
     "name": "stdout",
     "output_type": "stream",
     "text": [
      "CPU times: user 9.58 s, sys: 10.9 ms, total: 9.59 s\n",
      "Wall time: 9.6 s\n"
     ]
    },
    {
     "data": {
      "text/plain": [
       "\"Лучшие параметры: {'max_depth': 10, 'min_samples_leaf': 5, 'min_samples_split': 2}\""
      ]
     },
     "execution_count": 26,
     "metadata": {},
     "output_type": "execute_result"
    }
   ],
   "source": [
    "%%time\n",
    "\n",
    "parameters = {\n",
    "    'max_depth': range(5, 51, 5),\n",
    "    'min_samples_leaf': range(1, 6),\n",
    "    'min_samples_split': range(2, 7, 2) \n",
    "}\n",
    "\n",
    "model = DecisionTreeClassifier(random_state=987654)\n",
    "grid_model = GridSearchCV(model, parameters, scoring='f1')\n",
    "grid_model.fit(features_downsampled, target_downsampled)\n",
    "\n",
    "display(f'Значение F1-меры: {grid_model.best_score_}')\n",
    "f'Лучшие параметры: {grid_model.best_params_}'"
   ]
  },
  {
   "cell_type": "markdown",
   "metadata": {},
   "source": [
    "* Значение F1-меры на несбалансированной выборке: 0.5574  \n",
    "* Значение F1-меры при использовании гиперпараметра `class_weight`: 0.5667\n",
    "* Значение F1-меры при использовании техники upsampling: 0.9312\n",
    "* Значение F1-меры при использовании техники downsampling: 0.7350\n",
    "\n",
    "Значение F1-меры ощутимо ниже, чем при использовании техники upsampling."
   ]
  },
  {
   "cell_type": "markdown",
   "metadata": {},
   "source": [
    "#### Случайный лес"
   ]
  },
  {
   "cell_type": "markdown",
   "metadata": {},
   "source": [
    "Проведём поиск гиперпараметров для модели случайного леса."
   ]
  },
  {
   "cell_type": "code",
   "execution_count": 27,
   "metadata": {},
   "outputs": [
    {
     "data": {
      "text/plain": [
       "'Значение F1-меры: 0.7749885621668782'"
      ]
     },
     "metadata": {},
     "output_type": "display_data"
    },
    {
     "name": "stdout",
     "output_type": "stream",
     "text": [
      "CPU times: user 50.8 s, sys: 187 ms, total: 51 s\n",
      "Wall time: 51 s\n"
     ]
    },
    {
     "data": {
      "text/plain": [
       "\"Лучшие параметры: {'max_depth': 10, 'min_samples_leaf': 2, 'min_samples_split': 2, 'n_estimators': 70}\""
      ]
     },
     "execution_count": 27,
     "metadata": {},
     "output_type": "execute_result"
    }
   ],
   "source": [
    "%%time\n",
    "\n",
    "parameters = {\n",
    "    'n_estimators': range(70, 101, 10),\n",
    "    'max_depth': range(5, 11, 5),\n",
    "    'min_samples_leaf': range(1, 4),\n",
    "    'min_samples_split': range(2, 5, 2) \n",
    "}\n",
    "\n",
    "model = RandomForestClassifier(random_state=987654)\n",
    "grid_model = GridSearchCV(model, parameters, scoring='f1')\n",
    "grid_model.fit(features_downsampled, target_downsampled)\n",
    "\n",
    "display(f'Значение F1-меры: {grid_model.best_score_}')\n",
    "f'Лучшие параметры: {grid_model.best_params_}'"
   ]
  },
  {
   "cell_type": "markdown",
   "metadata": {},
   "source": [
    "* Значение F1-меры на несбалансированной выборке: 0.5745  \n",
    "* Значение F1-меры при использовании гиперпараметра `class_weight`: 0.6239  \n",
    "* Значение F1-меры при использовании техники upsampling: 0.8547\n",
    "* Значение F1-меры при использовании техники downsampling: 0.7749"
   ]
  },
  {
   "cell_type": "markdown",
   "metadata": {},
   "source": [
    "Значение F1-меры ниже, чем при использовании техники upsampling."
   ]
  },
  {
   "cell_type": "markdown",
   "metadata": {},
   "source": [
    "#### Вывод "
   ]
  },
  {
   "cell_type": "markdown",
   "metadata": {},
   "source": [
    "Получены следующие результаты:\n",
    "1. Логистическая регрессия: 0.7084. Наилучший результат среди всех вариантов обучения данной модели.\n",
    "2. Дерево решений: 0.7350. Высокий результат для данной модели, но уступает обучению с использованием техники upsampling.\n",
    "3. Случайный лес: 0.7749. Высокий результат для данной модели, но уступает обучению с использованием техники upsampling."
   ]
  },
  {
   "cell_type": "markdown",
   "metadata": {},
   "source": [
    "### Вывод по борьбе с дисбалансом "
   ]
  },
  {
   "cell_type": "markdown",
   "metadata": {},
   "source": [
    "Модели логистической регрессии, дерева решений и случайного леса были обучены с использованием трёх техник борьбы с дисбалансом классов:\n",
    "* Гиперпараметр `class_weight`\n",
    "* Upsampling\n",
    "* Downsampling\n",
    "\n",
    "В результате было установлено, что наивысшее значение F1-меры набирает модель дерева решений при использовании техники upsampling и следующих гиперпараметров: \n",
    "* `'max_depth'`: 25, \n",
    "* `'min_samples_leaf'`: 1, \n",
    "* `'min_samples_split'`: 2, \n",
    "\n",
    "\n",
    "F1-мера в данном случае равна 0,9312. Есть подозрение, что дерево переобучилось. Проверим это на тестовой выборке."
   ]
  },
  {
   "cell_type": "markdown",
   "metadata": {},
   "source": [
    "## Тестирование модели"
   ]
  },
  {
   "cell_type": "markdown",
   "metadata": {},
   "source": [
    "Проведём тестирование наилучшей модели. Это модель дерева решений с использованием техники upsampling и следующими гиперпараметрами:\n",
    "* `'max_depth'`: 25, \n",
    "* `'min_samples_leaf'`: 1, \n",
    "* `'min_samples_split'`: 2"
   ]
  },
  {
   "cell_type": "code",
   "execution_count": 28,
   "metadata": {},
   "outputs": [
    {
     "name": "stdout",
     "output_type": "stream",
     "text": [
      "CPU times: user 50.1 ms, sys: 50 µs, total: 50.1 ms\n",
      "Wall time: 48.7 ms\n"
     ]
    },
    {
     "data": {
      "text/plain": [
       "'Значение F1-меры: 0.47701863354037266'"
      ]
     },
     "execution_count": 28,
     "metadata": {},
     "output_type": "execute_result"
    }
   ],
   "source": [
    "%%time\n",
    "\n",
    "model = DecisionTreeClassifier(\n",
    "    random_state=987654,\n",
    "    max_depth=25, \n",
    "    min_samples_leaf=1, \n",
    "    min_samples_split=2\n",
    ")\n",
    "model.fit(features_upsampled, target_upsampled)\n",
    "predictions = model.predict(features_test)\n",
    "f'Значение F1-меры: {f1_score(target_test, predictions)}'"
   ]
  },
  {
   "cell_type": "markdown",
   "metadata": {},
   "source": [
    "Значение F1-меры равно 0,477 гораздо ниже требуемого уровня в 0,59. Делаем вывод, что модель черезмерно переобучилась на учебной выборке."
   ]
  },
  {
   "cell_type": "markdown",
   "metadata": {},
   "source": [
    "Протестируем следующую по метрике F1 модель - случайный лес. Гиперпараметры следующие:\n",
    "* `max_depth`: 10, \n",
    "* `min_samples_leaf`: 1, \n",
    "* `min_samples_split`: 4,\n",
    "* `n_estimators`: 100"
   ]
  },
  {
   "cell_type": "code",
   "execution_count": 29,
   "metadata": {},
   "outputs": [
    {
     "name": "stdout",
     "output_type": "stream",
     "text": [
      "CPU times: user 864 ms, sys: 3.94 ms, total: 868 ms\n",
      "Wall time: 876 ms\n"
     ]
    },
    {
     "data": {
      "text/plain": [
       "'Значение F1-меры: 0.615219721329046'"
      ]
     },
     "execution_count": 29,
     "metadata": {},
     "output_type": "execute_result"
    }
   ],
   "source": [
    "%%time\n",
    "\n",
    "model = RandomForestClassifier(\n",
    "    random_state=987654,\n",
    "    max_depth=10, \n",
    "    min_samples_leaf=1, \n",
    "    min_samples_split=4,\n",
    "    n_estimators=100\n",
    ")\n",
    "model.fit(features_upsampled, target_upsampled)\n",
    "predictions = model.predict(features_test)\n",
    "f'Значение F1-меры: {f1_score(target_test, predictions)}'"
   ]
  },
  {
   "cell_type": "markdown",
   "metadata": {},
   "source": [
    "В результате получено значение F1-меры равное 0,615. Это выше требуемого порога в 0,59."
   ]
  },
  {
   "cell_type": "markdown",
   "metadata": {},
   "source": [
    "## Исследование AUC-ROC "
   ]
  },
  {
   "cell_type": "markdown",
   "metadata": {},
   "source": [
    "Измерим значение метрики AUC-ROC нашей наилучшей модели на тестовой выборке."
   ]
  },
  {
   "cell_type": "code",
   "execution_count": 30,
   "metadata": {},
   "outputs": [
    {
     "data": {
      "text/plain": [
       "'Значение метрики auc-roc равно: 0.8557140665746279'"
      ]
     },
     "execution_count": 30,
     "metadata": {},
     "output_type": "execute_result"
    }
   ],
   "source": [
    "probabilities_test = model.predict_proba(features_test)\n",
    "probabilities_one_test = probabilities_test[:, 1]\n",
    "\n",
    "f'Значение метрики auc-roc равно: {roc_auc_score(target_test, probabilities_one_test)}'"
   ]
  },
  {
   "cell_type": "markdown",
   "metadata": {},
   "source": [
    "Это довольно большое значение площади (AUC) под кривой ROC. Построим график."
   ]
  },
  {
   "cell_type": "code",
   "execution_count": 31,
   "metadata": {
    "scrolled": true
   },
   "outputs": [
    {
     "data": {
      "image/png": "[encoded data removed]",
      "text/plain": [
       "<Figure size 432x288 with 1 Axes>"
      ]
     },
     "metadata": {
      "needs_background": "light"
     },
     "output_type": "display_data"
    }
   ],
   "source": [
    "fpr, tpr, thresholds = roc_curve(target_test, probabilities_one_test)\n",
    "\n",
    "plt.figure()\n",
    "plt.plot(fpr, tpr)\n",
    "plt.plot([0, 1], [0, 1], linestyle='--')\n",
    "plt.xlim([0.0, 1.0])\n",
    "plt.ylim([0.0, 1.0])\n",
    "plt.xlabel('False Positive Rate')\n",
    "plt.ylabel('True Positive Rate')\n",
    "plt.title('ROC-кривая')\n",
    "\n",
    "plt.show()"
   ]
  },
  {
   "cell_type": "markdown",
   "metadata": {},
   "source": [
    "## Общий вывод "
   ]
  },
  {
   "cell_type": "markdown",
   "metadata": {},
   "source": [
    "В результате обработки данных и проверки нескольких техник борьбы с дисбалансом классов была обучена модель случайного леса с использованием техники upsampling и гиперпараметрами:\n",
    "* `'max_depth'`: 10, \n",
    "* `'min_samples_leaf'`: 1, \n",
    "* `'min_samples_split'`: 4, \n",
    "* `'n_estimators'`: 100\n",
    "\n",
    "Значение F1-меры данной модели на тестовой выборке составило 0,6150. Это выше необходимого порога в 0,59.\n",
    "Значение метрики AUC-ROC данной модели на тестовой выборке составило 0,8557. Модель довольно хорошо справляется с правильной классификацией целевого признака."
   ]
  }
 ],
 "metadata": {
  "ExecuteTimeLog": [
   {
    "duration": 868,
    "start_time": "2022-06-05T15:13:44.699Z"
   },
   {
    "duration": 80,
    "start_time": "2022-06-05T15:14:07.508Z"
   },
   {
    "duration": 61,
    "start_time": "2022-06-05T15:14:18.899Z"
   },
   {
    "duration": 34,
    "start_time": "2022-06-05T15:54:54.679Z"
   },
   {
    "duration": 3,
    "start_time": "2022-06-05T15:57:44.298Z"
   },
   {
    "duration": 16,
    "start_time": "2022-06-05T15:58:04.637Z"
   },
   {
    "duration": 38,
    "start_time": "2022-06-05T16:00:29.216Z"
   },
   {
    "duration": 13,
    "start_time": "2022-06-05T16:03:00.283Z"
   },
   {
    "duration": 119,
    "start_time": "2022-06-05T16:08:34.810Z"
   },
   {
    "duration": 992,
    "start_time": "2022-06-05T16:08:45.279Z"
   },
   {
    "duration": 66,
    "start_time": "2022-06-05T16:08:46.273Z"
   },
   {
    "duration": 14,
    "start_time": "2022-06-05T16:08:46.340Z"
   },
   {
    "duration": 14,
    "start_time": "2022-06-05T16:08:46.356Z"
   },
   {
    "duration": 40,
    "start_time": "2022-06-05T16:08:46.373Z"
   },
   {
    "duration": 13,
    "start_time": "2022-06-05T16:28:11.827Z"
   },
   {
    "duration": 46,
    "start_time": "2022-06-05T16:30:12.858Z"
   },
   {
    "duration": 19,
    "start_time": "2022-06-05T16:56:39.467Z"
   },
   {
    "duration": 15,
    "start_time": "2022-06-05T17:28:37.869Z"
   },
   {
    "duration": 2,
    "start_time": "2022-06-05T17:29:47.116Z"
   },
   {
    "duration": 99,
    "start_time": "2022-06-05T17:30:19.446Z"
   },
   {
    "duration": 93,
    "start_time": "2022-06-05T17:30:25.063Z"
   },
   {
    "duration": 10,
    "start_time": "2022-06-05T17:30:29.051Z"
   },
   {
    "duration": 19,
    "start_time": "2022-06-05T17:31:41.174Z"
   },
   {
    "duration": 21,
    "start_time": "2022-06-05T17:32:11.163Z"
   },
   {
    "duration": 12,
    "start_time": "2022-06-05T17:32:27.843Z"
   },
   {
    "duration": 18,
    "start_time": "2022-06-05T17:37:18.038Z"
   },
   {
    "duration": 17,
    "start_time": "2022-06-05T17:37:53.015Z"
   },
   {
    "duration": 15,
    "start_time": "2022-06-05T17:38:39.797Z"
   },
   {
    "duration": 46,
    "start_time": "2022-06-05T17:39:01.488Z"
   },
   {
    "duration": 38,
    "start_time": "2022-06-05T17:40:46.083Z"
   },
   {
    "duration": 10,
    "start_time": "2022-06-05T18:18:01.747Z"
   },
   {
    "duration": 3,
    "start_time": "2022-06-05T18:18:05.456Z"
   },
   {
    "duration": 26,
    "start_time": "2022-06-05T18:18:09.465Z"
   },
   {
    "duration": 9,
    "start_time": "2022-06-05T18:19:32.300Z"
   },
   {
    "duration": 11,
    "start_time": "2022-06-05T18:19:36.024Z"
   },
   {
    "duration": 0,
    "start_time": "2022-06-05T18:32:49.375Z"
   },
   {
    "duration": 191,
    "start_time": "2022-06-05T18:36:15.766Z"
   },
   {
    "duration": 137,
    "start_time": "2022-06-05T18:45:56.215Z"
   },
   {
    "duration": 71,
    "start_time": "2022-06-05T18:46:05.380Z"
   },
   {
    "duration": 1875,
    "start_time": "2022-06-11T20:31:45.455Z"
   },
   {
    "duration": 2,
    "start_time": "2022-06-11T20:31:47.332Z"
   },
   {
    "duration": 208,
    "start_time": "2022-06-11T20:31:47.336Z"
   },
   {
    "duration": 10,
    "start_time": "2022-06-11T20:31:47.546Z"
   },
   {
    "duration": 10,
    "start_time": "2022-06-11T20:31:47.558Z"
   },
   {
    "duration": 39,
    "start_time": "2022-06-11T20:31:47.569Z"
   },
   {
    "duration": 12,
    "start_time": "2022-06-11T20:31:47.610Z"
   },
   {
    "duration": 17,
    "start_time": "2022-06-11T20:31:47.623Z"
   },
   {
    "duration": 42,
    "start_time": "2022-06-11T20:31:47.642Z"
   },
   {
    "duration": 82,
    "start_time": "2022-06-11T20:31:47.687Z"
   },
   {
    "duration": 31,
    "start_time": "2022-06-11T20:31:47.771Z"
   },
   {
    "duration": 1243,
    "start_time": "2022-06-11T20:35:00.402Z"
   },
   {
    "duration": 2,
    "start_time": "2022-06-11T20:35:01.647Z"
   },
   {
    "duration": 92,
    "start_time": "2022-06-11T20:35:01.651Z"
   },
   {
    "duration": 11,
    "start_time": "2022-06-11T20:35:01.745Z"
   },
   {
    "duration": 18,
    "start_time": "2022-06-11T20:35:01.757Z"
   },
   {
    "duration": 66,
    "start_time": "2022-06-11T20:35:01.786Z"
   },
   {
    "duration": 8,
    "start_time": "2022-06-11T20:35:01.854Z"
   },
   {
    "duration": 63,
    "start_time": "2022-06-11T20:35:01.864Z"
   },
   {
    "duration": 28,
    "start_time": "2022-06-11T20:35:01.929Z"
   },
   {
    "duration": 60,
    "start_time": "2022-06-11T20:35:01.960Z"
   },
   {
    "duration": 71,
    "start_time": "2022-06-11T20:35:02.022Z"
   },
   {
    "duration": 213,
    "start_time": "2022-06-11T20:35:02.095Z"
   },
   {
    "duration": 54,
    "start_time": "2022-06-11T20:35:46.640Z"
   },
   {
    "duration": 22,
    "start_time": "2022-06-11T20:37:31.602Z"
   },
   {
    "duration": 157,
    "start_time": "2022-06-11T20:37:38.221Z"
   },
   {
    "duration": 21,
    "start_time": "2022-06-11T20:37:45.953Z"
   },
   {
    "duration": 15,
    "start_time": "2022-06-11T20:37:54.243Z"
   },
   {
    "duration": 36146,
    "start_time": "2022-06-11T20:50:20.208Z"
   },
   {
    "duration": 34940,
    "start_time": "2022-06-11T21:04:00.065Z"
   },
   {
    "duration": 142304,
    "start_time": "2022-06-11T21:12:14.252Z"
   },
   {
    "duration": 326,
    "start_time": "2022-06-11T21:17:19.256Z"
   },
   {
    "duration": 58,
    "start_time": "2022-06-11T21:17:33.831Z"
   },
   {
    "duration": 49,
    "start_time": "2022-06-11T21:17:43.356Z"
   },
   {
    "duration": 9587,
    "start_time": "2022-06-11T21:19:42.096Z"
   },
   {
    "duration": 2759,
    "start_time": "2022-06-11T21:20:17.425Z"
   },
   {
    "duration": 4358,
    "start_time": "2022-06-11T21:20:48.423Z"
   },
   {
    "duration": 5123,
    "start_time": "2022-06-11T21:21:06.167Z"
   },
   {
    "duration": 46,
    "start_time": "2022-06-11T21:26:37.642Z"
   },
   {
    "duration": 119,
    "start_time": "2022-06-11T21:26:58.536Z"
   },
   {
    "duration": 3,
    "start_time": "2022-06-11T21:27:04.664Z"
   },
   {
    "duration": 110879,
    "start_time": "2022-06-11T21:27:07.406Z"
   },
   {
    "duration": 33315,
    "start_time": "2022-06-11T21:30:00.694Z"
   },
   {
    "duration": 13748,
    "start_time": "2022-06-11T21:33:49.837Z"
   },
   {
    "duration": 194,
    "start_time": "2022-06-11T21:35:02.639Z"
   },
   {
    "duration": 11140,
    "start_time": "2022-06-11T21:35:30.648Z"
   },
   {
    "duration": 1113,
    "start_time": "2022-06-12T18:46:00.315Z"
   },
   {
    "duration": 3,
    "start_time": "2022-06-12T18:46:01.430Z"
   },
   {
    "duration": 172,
    "start_time": "2022-06-12T18:46:01.434Z"
   },
   {
    "duration": 13,
    "start_time": "2022-06-12T18:46:01.608Z"
   },
   {
    "duration": 21,
    "start_time": "2022-06-12T18:46:01.622Z"
   },
   {
    "duration": 77,
    "start_time": "2022-06-12T18:46:01.645Z"
   },
   {
    "duration": 11,
    "start_time": "2022-06-12T18:46:01.723Z"
   },
   {
    "duration": 48,
    "start_time": "2022-06-12T18:46:01.735Z"
   },
   {
    "duration": 28,
    "start_time": "2022-06-12T18:46:01.784Z"
   },
   {
    "duration": 89,
    "start_time": "2022-06-12T18:46:01.815Z"
   },
   {
    "duration": 168,
    "start_time": "2022-06-12T18:46:01.906Z"
   },
   {
    "duration": 18299,
    "start_time": "2022-06-12T18:46:02.076Z"
   },
   {
    "duration": 55107,
    "start_time": "2022-06-12T18:46:20.377Z"
   },
   {
    "duration": 9879,
    "start_time": "2022-06-12T18:47:15.486Z"
   },
   {
    "duration": 16632,
    "start_time": "2022-06-12T18:47:25.371Z"
   },
   {
    "duration": 13050,
    "start_time": "2022-06-12T18:47:42.005Z"
   },
   {
    "duration": 37313,
    "start_time": "2022-06-12T18:47:55.063Z"
   },
   {
    "duration": 154582,
    "start_time": "2022-06-12T18:48:32.378Z"
   },
   {
    "duration": 7522,
    "start_time": "2022-06-12T18:54:06.140Z"
   },
   {
    "duration": 100,
    "start_time": "2022-06-13T09:57:38.098Z"
   },
   {
    "duration": 916,
    "start_time": "2022-06-13T09:57:55.149Z"
   },
   {
    "duration": 3,
    "start_time": "2022-06-13T09:57:56.067Z"
   },
   {
    "duration": 182,
    "start_time": "2022-06-13T09:57:56.071Z"
   },
   {
    "duration": 11,
    "start_time": "2022-06-13T09:57:56.254Z"
   },
   {
    "duration": 11,
    "start_time": "2022-06-13T09:57:56.267Z"
   },
   {
    "duration": 33,
    "start_time": "2022-06-13T09:57:56.279Z"
   },
   {
    "duration": 8,
    "start_time": "2022-06-13T09:57:56.326Z"
   },
   {
    "duration": 17,
    "start_time": "2022-06-13T09:57:56.335Z"
   },
   {
    "duration": 14,
    "start_time": "2022-06-13T09:57:56.354Z"
   },
   {
    "duration": 73,
    "start_time": "2022-06-13T09:57:56.369Z"
   },
   {
    "duration": 4188,
    "start_time": "2022-06-13T09:57:56.444Z"
   },
   {
    "duration": 15150,
    "start_time": "2022-06-13T09:58:00.635Z"
   },
   {
    "duration": 47873,
    "start_time": "2022-06-13T09:58:15.786Z"
   },
   {
    "duration": 4072,
    "start_time": "2022-06-13T09:59:03.662Z"
   },
   {
    "duration": 173,
    "start_time": "2022-06-13T09:59:07.825Z"
   },
   {
    "duration": 11668,
    "start_time": "2022-06-13T09:59:07.999Z"
   },
   {
    "duration": 32550,
    "start_time": "2022-06-13T09:59:19.668Z"
   },
   {
    "duration": 139565,
    "start_time": "2022-06-13T09:59:52.226Z"
   },
   {
    "duration": 15366,
    "start_time": "2022-06-13T10:05:33.822Z"
   },
   {
    "duration": 23291,
    "start_time": "2022-06-13T10:06:46.262Z"
   },
   {
    "duration": 14196,
    "start_time": "2022-06-13T10:07:31.917Z"
   },
   {
    "duration": 82,
    "start_time": "2022-06-13T10:08:27.911Z"
   },
   {
    "duration": 399773,
    "start_time": "2022-06-13T10:19:38.651Z"
   },
   {
    "duration": 8094,
    "start_time": "2022-06-13T10:28:48.785Z"
   },
   {
    "duration": 8065,
    "start_time": "2022-06-13T10:29:50.189Z"
   },
   {
    "duration": 469,
    "start_time": "2022-06-13T10:36:16.446Z"
   },
   {
    "duration": 21,
    "start_time": "2022-06-13T11:01:55.958Z"
   },
   {
    "duration": 8,
    "start_time": "2022-06-13T11:02:05.819Z"
   },
   {
    "duration": 34,
    "start_time": "2022-06-13T11:03:53.448Z"
   },
   {
    "duration": 25,
    "start_time": "2022-06-13T11:04:01.506Z"
   },
   {
    "duration": 30,
    "start_time": "2022-06-13T11:04:09.669Z"
   },
   {
    "duration": 35,
    "start_time": "2022-06-13T11:04:16.657Z"
   },
   {
    "duration": 8,
    "start_time": "2022-06-13T11:04:34.923Z"
   },
   {
    "duration": 9,
    "start_time": "2022-06-13T11:04:43.133Z"
   },
   {
    "duration": 8,
    "start_time": "2022-06-13T11:04:48.948Z"
   },
   {
    "duration": 112,
    "start_time": "2022-06-13T11:06:55.311Z"
   },
   {
    "duration": 4,
    "start_time": "2022-06-13T11:07:10.505Z"
   },
   {
    "duration": 12,
    "start_time": "2022-06-13T11:07:13.857Z"
   },
   {
    "duration": 13847,
    "start_time": "2022-06-13T11:07:55.896Z"
   },
   {
    "duration": 31102,
    "start_time": "2022-06-13T11:11:15.792Z"
   },
   {
    "duration": 151,
    "start_time": "2022-06-13T11:12:04.946Z"
   },
   {
    "duration": 505801,
    "start_time": "2022-06-13T11:18:25.990Z"
   },
   {
    "duration": 19018,
    "start_time": "2022-06-13T11:26:58.417Z"
   },
   {
    "duration": 27048,
    "start_time": "2022-06-13T11:27:24.252Z"
   },
   {
    "duration": 131,
    "start_time": "2022-06-13T11:29:21.351Z"
   },
   {
    "duration": 657472,
    "start_time": "2022-06-13T11:32:10.508Z"
   },
   {
    "duration": 13,
    "start_time": "2022-06-13T11:43:07.982Z"
   },
   {
    "duration": 13,
    "start_time": "2022-06-13T11:43:09.704Z"
   },
   {
    "duration": 9,
    "start_time": "2022-06-13T11:43:13.674Z"
   },
   {
    "duration": 23,
    "start_time": "2022-06-13T11:43:16.035Z"
   },
   {
    "duration": 20,
    "start_time": "2022-06-13T11:43:38.396Z"
   },
   {
    "duration": 13525,
    "start_time": "2022-06-13T11:43:44.911Z"
   },
   {
    "duration": 24731,
    "start_time": "2022-06-13T11:44:20.574Z"
   },
   {
    "duration": 166,
    "start_time": "2022-06-13T11:45:16.577Z"
   },
   {
    "duration": 228726,
    "start_time": "2022-06-13T11:46:37.012Z"
   },
   {
    "duration": 368949,
    "start_time": "2022-06-13T11:50:27.145Z"
   },
   {
    "duration": 57103,
    "start_time": "2022-06-13T12:03:04.311Z"
   },
   {
    "duration": 81508,
    "start_time": "2022-06-13T12:04:01.416Z"
   },
   {
    "duration": 668,
    "start_time": "2022-06-13T12:05:22.935Z"
   },
   {
    "duration": 77617,
    "start_time": "2022-06-13T12:06:48.333Z"
   },
   {
    "duration": 109681,
    "start_time": "2022-06-13T12:09:35.252Z"
   },
   {
    "duration": 29,
    "start_time": "2022-06-13T12:29:10.683Z"
   },
   {
    "duration": 8176,
    "start_time": "2022-06-13T12:29:45.985Z"
   },
   {
    "duration": 11088,
    "start_time": "2022-06-13T12:31:19.914Z"
   },
   {
    "duration": 57147,
    "start_time": "2022-06-13T12:39:45.378Z"
   },
   {
    "duration": 78785,
    "start_time": "2022-06-13T12:44:25.702Z"
   },
   {
    "duration": 673,
    "start_time": "2022-06-13T13:09:37.045Z"
   },
   {
    "duration": 60,
    "start_time": "2022-06-13T13:17:29.793Z"
   },
   {
    "duration": 3,
    "start_time": "2022-06-13T13:17:34.594Z"
   },
   {
    "duration": 56,
    "start_time": "2022-06-13T13:17:37.360Z"
   },
   {
    "duration": 6,
    "start_time": "2022-06-13T13:18:47.321Z"
   },
   {
    "duration": 403,
    "start_time": "2022-06-13T13:19:21.590Z"
   },
   {
    "duration": 220,
    "start_time": "2022-06-13T13:20:06.862Z"
   },
   {
    "duration": 639,
    "start_time": "2022-06-13T13:29:50.195Z"
   },
   {
    "duration": 37,
    "start_time": "2022-06-13T13:29:53.078Z"
   },
   {
    "duration": 103,
    "start_time": "2022-06-13T13:29:54.449Z"
   },
   {
    "duration": 37,
    "start_time": "2022-06-13T13:30:40.552Z"
   },
   {
    "duration": 45,
    "start_time": "2022-06-13T13:30:44.041Z"
   },
   {
    "duration": 1260,
    "start_time": "2022-06-13T13:37:25.064Z"
   },
   {
    "duration": 19,
    "start_time": "2022-06-13T13:37:26.334Z"
   },
   {
    "duration": 184,
    "start_time": "2022-06-13T13:37:26.361Z"
   },
   {
    "duration": 13,
    "start_time": "2022-06-13T13:37:26.547Z"
   },
   {
    "duration": 36,
    "start_time": "2022-06-13T13:37:26.562Z"
   },
   {
    "duration": 49,
    "start_time": "2022-06-13T13:37:26.600Z"
   },
   {
    "duration": 33,
    "start_time": "2022-06-13T13:37:26.650Z"
   },
   {
    "duration": 33,
    "start_time": "2022-06-13T13:37:26.685Z"
   },
   {
    "duration": 28,
    "start_time": "2022-06-13T13:37:26.720Z"
   },
   {
    "duration": 94,
    "start_time": "2022-06-13T13:37:26.753Z"
   },
   {
    "duration": 7881,
    "start_time": "2022-06-13T13:37:26.862Z"
   },
   {
    "duration": 17430,
    "start_time": "2022-06-13T13:37:34.745Z"
   },
   {
    "duration": 81599,
    "start_time": "2022-06-13T13:37:52.177Z"
   },
   {
    "duration": 8492,
    "start_time": "2022-06-13T13:39:13.779Z"
   },
   {
    "duration": 16593,
    "start_time": "2022-06-13T13:39:22.272Z"
   },
   {
    "duration": 12036,
    "start_time": "2022-06-13T13:39:38.867Z"
   },
   {
    "duration": 0,
    "start_time": "2022-06-13T13:39:50.905Z"
   },
   {
    "duration": 0,
    "start_time": "2022-06-13T13:39:50.906Z"
   },
   {
    "duration": 0,
    "start_time": "2022-06-13T13:39:50.907Z"
   },
   {
    "duration": 0,
    "start_time": "2022-06-13T13:39:50.908Z"
   },
   {
    "duration": 0,
    "start_time": "2022-06-13T13:39:50.909Z"
   },
   {
    "duration": 0,
    "start_time": "2022-06-13T13:39:50.910Z"
   },
   {
    "duration": 0,
    "start_time": "2022-06-13T13:39:50.911Z"
   },
   {
    "duration": 0,
    "start_time": "2022-06-13T13:39:50.925Z"
   },
   {
    "duration": 0,
    "start_time": "2022-06-13T13:39:50.938Z"
   },
   {
    "duration": 0,
    "start_time": "2022-06-13T13:39:50.939Z"
   },
   {
    "duration": 0,
    "start_time": "2022-06-13T13:39:50.939Z"
   },
   {
    "duration": 0,
    "start_time": "2022-06-13T13:39:50.940Z"
   },
   {
    "duration": 0,
    "start_time": "2022-06-13T13:39:50.940Z"
   },
   {
    "duration": 1204,
    "start_time": "2022-06-13T13:41:18.391Z"
   },
   {
    "duration": 3,
    "start_time": "2022-06-13T13:41:19.597Z"
   },
   {
    "duration": 91,
    "start_time": "2022-06-13T13:41:19.601Z"
   },
   {
    "duration": 11,
    "start_time": "2022-06-13T13:41:19.694Z"
   },
   {
    "duration": 45,
    "start_time": "2022-06-13T13:41:19.706Z"
   },
   {
    "duration": 41,
    "start_time": "2022-06-13T13:41:19.754Z"
   },
   {
    "duration": 7,
    "start_time": "2022-06-13T13:41:19.796Z"
   },
   {
    "duration": 73,
    "start_time": "2022-06-13T13:41:19.804Z"
   },
   {
    "duration": 20,
    "start_time": "2022-06-13T13:41:19.878Z"
   },
   {
    "duration": 75,
    "start_time": "2022-06-13T13:41:19.900Z"
   },
   {
    "duration": 8161,
    "start_time": "2022-06-13T13:41:19.977Z"
   },
   {
    "duration": 15795,
    "start_time": "2022-06-13T13:41:28.141Z"
   },
   {
    "duration": 80902,
    "start_time": "2022-06-13T13:41:43.938Z"
   },
   {
    "duration": 8389,
    "start_time": "2022-06-13T13:43:04.842Z"
   },
   {
    "duration": 16140,
    "start_time": "2022-06-13T13:43:13.236Z"
   },
   {
    "duration": 81444,
    "start_time": "2022-06-13T13:43:29.377Z"
   },
   {
    "duration": 31,
    "start_time": "2022-06-13T13:44:50.825Z"
   },
   {
    "duration": 18,
    "start_time": "2022-06-13T13:44:50.862Z"
   },
   {
    "duration": 9453,
    "start_time": "2022-06-13T13:44:50.881Z"
   },
   {
    "duration": 21643,
    "start_time": "2022-06-13T13:45:00.338Z"
   },
   {
    "duration": 109637,
    "start_time": "2022-06-13T13:45:21.983Z"
   },
   {
    "duration": 11,
    "start_time": "2022-06-13T13:47:11.626Z"
   },
   {
    "duration": 37,
    "start_time": "2022-06-13T13:47:11.639Z"
   },
   {
    "duration": 3479,
    "start_time": "2022-06-13T13:47:11.678Z"
   },
   {
    "duration": 7483,
    "start_time": "2022-06-13T13:47:15.226Z"
   },
   {
    "duration": 48754,
    "start_time": "2022-06-13T13:47:22.710Z"
   },
   {
    "duration": 680,
    "start_time": "2022-06-13T13:48:11.466Z"
   },
   {
    "duration": 49,
    "start_time": "2022-06-13T13:48:12.150Z"
   },
   {
    "duration": 115,
    "start_time": "2022-06-13T13:48:12.201Z"
   },
   {
    "duration": 1251,
    "start_time": "2022-06-13T14:10:33.861Z"
   },
   {
    "duration": 3,
    "start_time": "2022-06-13T14:10:35.114Z"
   },
   {
    "duration": 107,
    "start_time": "2022-06-13T14:10:35.118Z"
   },
   {
    "duration": 13,
    "start_time": "2022-06-13T14:10:35.227Z"
   },
   {
    "duration": 26,
    "start_time": "2022-06-13T14:10:35.243Z"
   },
   {
    "duration": 59,
    "start_time": "2022-06-13T14:10:35.271Z"
   },
   {
    "duration": 10,
    "start_time": "2022-06-13T14:10:35.332Z"
   },
   {
    "duration": 35,
    "start_time": "2022-06-13T14:10:35.344Z"
   },
   {
    "duration": 14,
    "start_time": "2022-06-13T14:10:35.381Z"
   },
   {
    "duration": 71,
    "start_time": "2022-06-13T14:10:35.397Z"
   },
   {
    "duration": 4892,
    "start_time": "2022-06-13T14:10:35.470Z"
   },
   {
    "duration": 16210,
    "start_time": "2022-06-13T14:10:40.367Z"
   },
   {
    "duration": 79284,
    "start_time": "2022-06-13T14:10:56.579Z"
   },
   {
    "duration": 5896,
    "start_time": "2022-06-13T14:12:15.867Z"
   },
   {
    "duration": 16152,
    "start_time": "2022-06-13T14:12:21.765Z"
   },
   {
    "duration": 77474,
    "start_time": "2022-06-13T14:12:37.919Z"
   },
   {
    "duration": 77,
    "start_time": "2022-06-13T14:13:55.395Z"
   },
   {
    "duration": 16,
    "start_time": "2022-06-13T14:13:55.473Z"
   },
   {
    "duration": 23667,
    "start_time": "2022-06-13T14:13:55.491Z"
   },
   {
    "duration": 21317,
    "start_time": "2022-06-13T14:14:19.168Z"
   },
   {
    "duration": 110990,
    "start_time": "2022-06-13T14:14:40.488Z"
   },
   {
    "duration": 6,
    "start_time": "2022-06-13T14:16:31.481Z"
   },
   {
    "duration": 20,
    "start_time": "2022-06-13T14:16:31.489Z"
   },
   {
    "duration": 2852,
    "start_time": "2022-06-13T14:16:31.511Z"
   },
   {
    "duration": 7583,
    "start_time": "2022-06-13T14:16:34.365Z"
   },
   {
    "duration": 47330,
    "start_time": "2022-06-13T14:16:41.950Z"
   },
   {
    "duration": 671,
    "start_time": "2022-06-13T14:17:29.281Z"
   },
   {
    "duration": 45,
    "start_time": "2022-06-13T14:17:29.953Z"
   },
   {
    "duration": 197,
    "start_time": "2022-06-13T14:17:30.000Z"
   },
   {
    "duration": 82131,
    "start_time": "2022-06-13T15:29:18.933Z"
   },
   {
    "duration": 1398,
    "start_time": "2022-06-13T17:47:46.943Z"
   },
   {
    "duration": 3,
    "start_time": "2022-06-13T17:47:50.018Z"
   },
   {
    "duration": 93,
    "start_time": "2022-06-13T17:47:51.434Z"
   },
   {
    "duration": 4,
    "start_time": "2022-06-13T18:44:51.280Z"
   },
   {
    "duration": 23,
    "start_time": "2022-06-13T18:44:51.287Z"
   },
   {
    "duration": 60,
    "start_time": "2022-06-13T18:44:51.311Z"
   },
   {
    "duration": 18,
    "start_time": "2022-06-13T18:44:51.373Z"
   },
   {
    "duration": 13,
    "start_time": "2022-06-13T18:44:51.393Z"
   },
   {
    "duration": 44,
    "start_time": "2022-06-13T18:44:51.408Z"
   },
   {
    "duration": 9,
    "start_time": "2022-06-13T18:44:51.454Z"
   },
   {
    "duration": 21,
    "start_time": "2022-06-13T18:44:51.464Z"
   },
   {
    "duration": 14,
    "start_time": "2022-06-13T18:44:53.158Z"
   },
   {
    "duration": 3,
    "start_time": "2022-06-13T18:52:21.546Z"
   },
   {
    "duration": 10,
    "start_time": "2022-06-13T18:52:21.551Z"
   },
   {
    "duration": 50,
    "start_time": "2022-06-13T18:52:21.563Z"
   },
   {
    "duration": 10,
    "start_time": "2022-06-13T18:52:21.615Z"
   },
   {
    "duration": 32,
    "start_time": "2022-06-13T18:53:37.260Z"
   },
   {
    "duration": 128,
    "start_time": "2022-06-13T18:56:16.638Z"
   },
   {
    "duration": 11981,
    "start_time": "2022-06-13T18:56:28.961Z"
   },
   {
    "duration": 20040,
    "start_time": "2022-06-13T18:59:40.062Z"
   },
   {
    "duration": 91070,
    "start_time": "2022-06-13T19:00:59.584Z"
   },
   {
    "duration": 8946,
    "start_time": "2022-06-13T19:04:44.182Z"
   },
   {
    "duration": 20411,
    "start_time": "2022-06-13T19:09:13.404Z"
   },
   {
    "duration": 427,
    "start_time": "2022-06-13T19:12:02.406Z"
   },
   {
    "duration": 97474,
    "start_time": "2022-06-13T19:12:22.106Z"
   },
   {
    "duration": 27,
    "start_time": "2022-06-13T19:22:12.862Z"
   },
   {
    "duration": 17,
    "start_time": "2022-06-13T19:23:49.385Z"
   },
   {
    "duration": 8249,
    "start_time": "2022-06-13T19:24:46.296Z"
   },
   {
    "duration": 28813,
    "start_time": "2022-06-13T19:26:21.800Z"
   },
   {
    "duration": 129232,
    "start_time": "2022-06-13T19:29:49.344Z"
   },
   {
    "duration": 6,
    "start_time": "2022-06-13T19:33:48.419Z"
   },
   {
    "duration": 15,
    "start_time": "2022-06-13T19:33:52.438Z"
   },
   {
    "duration": 2681,
    "start_time": "2022-06-13T19:37:16.035Z"
   },
   {
    "duration": 10903,
    "start_time": "2022-06-13T19:38:34.725Z"
   },
   {
    "duration": 53291,
    "start_time": "2022-06-13T19:40:13.665Z"
   },
   {
    "duration": 50,
    "start_time": "2022-06-13T19:45:18.634Z"
   },
   {
    "duration": 52,
    "start_time": "2022-06-13T19:46:10.439Z"
   },
   {
    "duration": 27507,
    "start_time": "2022-06-13T19:46:59.736Z"
   },
   {
    "duration": 52,
    "start_time": "2022-06-13T19:48:11.494Z"
   },
   {
    "duration": 53,
    "start_time": "2022-06-13T19:52:52.394Z"
   },
   {
    "duration": 8,
    "start_time": "2022-06-13T19:52:54.879Z"
   },
   {
    "duration": 132,
    "start_time": "2022-06-13T19:52:56.411Z"
   },
   {
    "duration": 4,
    "start_time": "2022-06-13T19:53:42.087Z"
   },
   {
    "duration": 5,
    "start_time": "2022-06-13T19:53:51.939Z"
   },
   {
    "duration": 5,
    "start_time": "2022-06-13T19:54:15.217Z"
   },
   {
    "duration": 4,
    "start_time": "2022-06-13T19:54:30.966Z"
   },
   {
    "duration": 18,
    "start_time": "2022-06-13T19:56:12.682Z"
   },
   {
    "duration": 53,
    "start_time": "2022-06-13T19:56:42.723Z"
   },
   {
    "duration": 8,
    "start_time": "2022-06-13T19:56:47.821Z"
   },
   {
    "duration": 5,
    "start_time": "2022-06-13T19:57:03.666Z"
   },
   {
    "duration": 947,
    "start_time": "2022-06-13T19:58:12.914Z"
   },
   {
    "duration": 44,
    "start_time": "2022-06-13T19:58:36.988Z"
   },
   {
    "duration": 4,
    "start_time": "2022-06-13T19:58:40.152Z"
   },
   {
    "duration": 51,
    "start_time": "2022-06-13T19:59:46.597Z"
   },
   {
    "duration": 58,
    "start_time": "2022-06-13T20:05:12.318Z"
   },
   {
    "duration": 864,
    "start_time": "2022-06-13T20:07:18.026Z"
   },
   {
    "duration": 49,
    "start_time": "2022-06-13T20:07:57.007Z"
   },
   {
    "duration": 113,
    "start_time": "2022-06-13T20:08:00.549Z"
   },
   {
    "duration": 1331,
    "start_time": "2022-06-13T20:10:45.290Z"
   },
   {
    "duration": 3,
    "start_time": "2022-06-13T20:10:46.623Z"
   },
   {
    "duration": 67,
    "start_time": "2022-06-13T20:10:46.627Z"
   },
   {
    "duration": 12,
    "start_time": "2022-06-13T20:10:46.697Z"
   },
   {
    "duration": 15,
    "start_time": "2022-06-13T20:10:46.710Z"
   },
   {
    "duration": 36,
    "start_time": "2022-06-13T20:10:46.727Z"
   },
   {
    "duration": 8,
    "start_time": "2022-06-13T20:10:46.764Z"
   },
   {
    "duration": 28,
    "start_time": "2022-06-13T20:10:46.773Z"
   },
   {
    "duration": 11,
    "start_time": "2022-06-13T20:10:46.803Z"
   },
   {
    "duration": 42,
    "start_time": "2022-06-13T20:10:46.826Z"
   },
   {
    "duration": 8861,
    "start_time": "2022-06-13T20:10:46.870Z"
   },
   {
    "duration": 22724,
    "start_time": "2022-06-13T20:10:55.733Z"
   },
   {
    "duration": 93107,
    "start_time": "2022-06-13T20:11:18.459Z"
   },
   {
    "duration": 43284,
    "start_time": "2022-06-13T20:12:51.567Z"
   },
   {
    "duration": 5166,
    "start_time": "2022-06-13T20:13:34.853Z"
   },
   {
    "duration": 0,
    "start_time": "2022-06-13T20:13:40.022Z"
   },
   {
    "duration": 0,
    "start_time": "2022-06-13T20:13:40.023Z"
   },
   {
    "duration": 0,
    "start_time": "2022-06-13T20:13:40.025Z"
   },
   {
    "duration": 0,
    "start_time": "2022-06-13T20:13:40.026Z"
   },
   {
    "duration": 0,
    "start_time": "2022-06-13T20:13:40.027Z"
   },
   {
    "duration": 0,
    "start_time": "2022-06-13T20:13:40.029Z"
   },
   {
    "duration": 0,
    "start_time": "2022-06-13T20:13:40.030Z"
   },
   {
    "duration": 0,
    "start_time": "2022-06-13T20:13:40.032Z"
   },
   {
    "duration": 0,
    "start_time": "2022-06-13T20:13:40.033Z"
   },
   {
    "duration": 0,
    "start_time": "2022-06-13T20:13:40.035Z"
   },
   {
    "duration": 0,
    "start_time": "2022-06-13T20:13:40.038Z"
   },
   {
    "duration": 0,
    "start_time": "2022-06-13T20:13:40.039Z"
   },
   {
    "duration": 0,
    "start_time": "2022-06-13T20:13:40.040Z"
   },
   {
    "duration": 0,
    "start_time": "2022-06-13T20:13:40.042Z"
   },
   {
    "duration": 0,
    "start_time": "2022-06-13T20:13:40.043Z"
   },
   {
    "duration": 0,
    "start_time": "2022-06-13T20:13:40.044Z"
   },
   {
    "duration": 1327,
    "start_time": "2022-06-13T20:14:25.915Z"
   },
   {
    "duration": 3,
    "start_time": "2022-06-13T20:14:27.244Z"
   },
   {
    "duration": 64,
    "start_time": "2022-06-13T20:14:27.248Z"
   },
   {
    "duration": 11,
    "start_time": "2022-06-13T20:14:27.314Z"
   },
   {
    "duration": 12,
    "start_time": "2022-06-13T20:14:27.327Z"
   },
   {
    "duration": 38,
    "start_time": "2022-06-13T20:14:27.340Z"
   },
   {
    "duration": 9,
    "start_time": "2022-06-13T20:14:27.380Z"
   },
   {
    "duration": 39,
    "start_time": "2022-06-13T20:14:27.391Z"
   },
   {
    "duration": 10,
    "start_time": "2022-06-13T20:14:27.432Z"
   },
   {
    "duration": 30,
    "start_time": "2022-06-13T20:14:27.445Z"
   },
   {
    "duration": 8453,
    "start_time": "2022-06-13T20:14:27.476Z"
   },
   {
    "duration": 21558,
    "start_time": "2022-06-13T20:14:35.932Z"
   },
   {
    "duration": 93451,
    "start_time": "2022-06-13T20:14:57.491Z"
   },
   {
    "duration": 91826,
    "start_time": "2022-06-13T20:16:30.943Z"
   },
   {
    "duration": 6361,
    "start_time": "2022-06-13T20:18:02.771Z"
   },
   {
    "duration": 20885,
    "start_time": "2022-06-13T20:18:09.134Z"
   },
   {
    "duration": 96117,
    "start_time": "2022-06-13T20:18:30.021Z"
   },
   {
    "duration": 25,
    "start_time": "2022-06-13T20:20:06.140Z"
   },
   {
    "duration": 18,
    "start_time": "2022-06-13T20:20:06.167Z"
   },
   {
    "duration": 12255,
    "start_time": "2022-06-13T20:20:06.188Z"
   },
   {
    "duration": 27161,
    "start_time": "2022-06-13T20:20:18.444Z"
   },
   {
    "duration": 135564,
    "start_time": "2022-06-13T20:20:45.606Z"
   },
   {
    "duration": 6,
    "start_time": "2022-06-13T20:23:01.172Z"
   },
   {
    "duration": 19,
    "start_time": "2022-06-13T20:23:01.179Z"
   },
   {
    "duration": 2837,
    "start_time": "2022-06-13T20:23:01.200Z"
   },
   {
    "duration": 10512,
    "start_time": "2022-06-13T20:23:04.039Z"
   },
   {
    "duration": 52479,
    "start_time": "2022-06-13T20:23:14.553Z"
   },
   {
    "duration": 51,
    "start_time": "2022-06-13T20:24:07.035Z"
   },
   {
    "duration": 972,
    "start_time": "2022-06-13T20:24:07.087Z"
   },
   {
    "duration": 75,
    "start_time": "2022-06-13T20:24:08.061Z"
   },
   {
    "duration": 153,
    "start_time": "2022-06-13T20:24:08.138Z"
   },
   {
    "duration": 1331,
    "start_time": "2022-06-14T02:02:32.628Z"
   },
   {
    "duration": 4,
    "start_time": "2022-06-14T02:02:33.961Z"
   },
   {
    "duration": 100,
    "start_time": "2022-06-14T02:02:33.967Z"
   },
   {
    "duration": 12,
    "start_time": "2022-06-14T02:02:34.069Z"
   },
   {
    "duration": 40,
    "start_time": "2022-06-14T02:02:34.082Z"
   },
   {
    "duration": 55,
    "start_time": "2022-06-14T02:02:34.124Z"
   },
   {
    "duration": 8,
    "start_time": "2022-06-14T02:02:34.181Z"
   },
   {
    "duration": 16,
    "start_time": "2022-06-14T02:02:34.191Z"
   },
   {
    "duration": 10,
    "start_time": "2022-06-14T02:02:34.208Z"
   },
   {
    "duration": 52,
    "start_time": "2022-06-14T02:02:34.220Z"
   },
   {
    "duration": 6284,
    "start_time": "2022-06-14T02:02:34.273Z"
   },
   {
    "duration": 20705,
    "start_time": "2022-06-14T02:02:40.558Z"
   },
   {
    "duration": 92132,
    "start_time": "2022-06-14T02:03:01.265Z"
   },
   {
    "duration": 90737,
    "start_time": "2022-06-14T02:04:33.399Z"
   },
   {
    "duration": 5714,
    "start_time": "2022-06-14T02:06:04.138Z"
   },
   {
    "duration": 20750,
    "start_time": "2022-06-14T02:06:09.854Z"
   },
   {
    "duration": 91755,
    "start_time": "2022-06-14T02:06:30.606Z"
   },
   {
    "duration": 63,
    "start_time": "2022-06-14T02:08:02.362Z"
   },
   {
    "duration": 14,
    "start_time": "2022-06-14T02:08:02.427Z"
   },
   {
    "duration": 7319,
    "start_time": "2022-06-14T02:08:02.442Z"
   },
   {
    "duration": 27209,
    "start_time": "2022-06-14T02:08:09.763Z"
   },
   {
    "duration": 128559,
    "start_time": "2022-06-14T02:08:36.974Z"
   },
   {
    "duration": 16,
    "start_time": "2022-06-14T02:10:45.536Z"
   },
   {
    "duration": 24,
    "start_time": "2022-06-14T02:10:45.554Z"
   },
   {
    "duration": 2297,
    "start_time": "2022-06-14T02:10:45.579Z"
   },
   {
    "duration": 9607,
    "start_time": "2022-06-14T02:10:47.878Z"
   },
   {
    "duration": 50996,
    "start_time": "2022-06-14T02:10:57.486Z"
   },
   {
    "duration": 54,
    "start_time": "2022-06-14T02:11:48.485Z"
   },
   {
    "duration": 882,
    "start_time": "2022-06-14T02:11:48.552Z"
   },
   {
    "duration": 53,
    "start_time": "2022-06-14T02:11:49.436Z"
   },
   {
    "duration": 175,
    "start_time": "2022-06-14T02:11:49.491Z"
   },
   {
    "duration": 42,
    "start_time": "2022-06-14T02:15:27.758Z"
   },
   {
    "duration": 8,
    "start_time": "2022-06-14T02:15:52.257Z"
   },
   {
    "duration": 115,
    "start_time": "2022-06-14T02:16:06.025Z"
   },
   {
    "duration": 40,
    "start_time": "2022-06-14T02:16:16.994Z"
   },
   {
    "duration": 7,
    "start_time": "2022-06-14T02:16:18.731Z"
   },
   {
    "duration": 120,
    "start_time": "2022-06-14T02:16:19.251Z"
   }
  ],
  "kernelspec": {
   "display_name": "Python 3 (ipykernel)",
   "language": "python",
   "name": "python3"
  },
  "language_info": {
   "codemirror_mode": {
    "name": "ipython",
    "version": 3
   },
   "file_extension": ".py",
   "mimetype": "text/x-python",
   "name": "python",
   "nbconvert_exporter": "python",
   "pygments_lexer": "ipython3",
   "version": "3.9.7"
  },
  "toc": {
   "base_numbering": 1,
   "nav_menu": {},
   "number_sections": true,
   "sideBar": true,
   "skip_h1_title": true,
   "title_cell": "Содержание",
   "title_sidebar": "Contents",
   "toc_cell": true,
   "toc_position": {
    "height": "calc(100% - 180px)",
    "left": "10px",
    "top": "150px",
    "width": "318.667px"
   },
   "toc_section_display": true,
   "toc_window_display": true
  }
 },
 "nbformat": 4,
 "nbformat_minor": 2
}
